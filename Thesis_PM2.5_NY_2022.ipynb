{
 "cells": [
  {
   "cell_type": "markdown",
   "id": "3a7c4531",
   "metadata": {},
   "source": [
    "\n",
    "# Imports"
   ]
  },
  {
   "cell_type": "code",
   "execution_count": 237,
   "id": "4f9a92c9",
   "metadata": {},
   "outputs": [],
   "source": [
    "import numpy as np\n",
    "import pandas as pd\n",
    "import seaborn as sns\n",
    "import os\n",
    "import sklearn\n",
    "from sklearn.datasets import load_diabetes\n",
    "import matplotlib.pyplot as plt\n",
    "import scipy.stats as stats\n",
    "import statistics\n",
    "import math\n",
    "%matplotlib inline\n",
    "import warnings\n",
    "warnings.filterwarnings(\"ignore\")\n",
    "plt.rcParams[\"figure.figsize\"] = (15,8)"
   ]
  },
  {
   "cell_type": "code",
   "execution_count": 2,
   "id": "8a045096",
   "metadata": {},
   "outputs": [
    {
     "data": {
      "text/html": [
       "<div>\n",
       "<style scoped>\n",
       "    .dataframe tbody tr th:only-of-type {\n",
       "        vertical-align: middle;\n",
       "    }\n",
       "\n",
       "    .dataframe tbody tr th {\n",
       "        vertical-align: top;\n",
       "    }\n",
       "\n",
       "    .dataframe thead th {\n",
       "        text-align: right;\n",
       "    }\n",
       "</style>\n",
       "<table border=\"1\" class=\"dataframe\">\n",
       "  <thead>\n",
       "    <tr style=\"text-align: right;\">\n",
       "      <th></th>\n",
       "      <th>Date</th>\n",
       "      <th>Source</th>\n",
       "      <th>Site ID</th>\n",
       "      <th>POC</th>\n",
       "      <th>Daily Mean PM2.5 Concentration</th>\n",
       "      <th>UNITS</th>\n",
       "      <th>DAILY_AQI_VALUE</th>\n",
       "      <th>Site Name</th>\n",
       "      <th>DAILY_OBS_COUNT</th>\n",
       "      <th>PERCENT_COMPLETE</th>\n",
       "      <th>AQS_PARAMETER_CODE</th>\n",
       "      <th>AQS_PARAMETER_DESC</th>\n",
       "      <th>CBSA_CODE</th>\n",
       "      <th>CBSA_NAME</th>\n",
       "      <th>STATE_CODE</th>\n",
       "      <th>STATE</th>\n",
       "      <th>COUNTY_CODE</th>\n",
       "      <th>COUNTY</th>\n",
       "      <th>SITE_LATITUDE</th>\n",
       "      <th>SITE_LONGITUDE</th>\n",
       "    </tr>\n",
       "  </thead>\n",
       "  <tbody>\n",
       "    <tr>\n",
       "      <th>0</th>\n",
       "      <td>01/02/2022</td>\n",
       "      <td>AQS</td>\n",
       "      <td>360010005</td>\n",
       "      <td>1</td>\n",
       "      <td>3.0</td>\n",
       "      <td>ug/m3 LC</td>\n",
       "      <td>13</td>\n",
       "      <td>ALBANY COUNTY HEALTH DEPT</td>\n",
       "      <td>1</td>\n",
       "      <td>100.0</td>\n",
       "      <td>88101</td>\n",
       "      <td>PM2.5 - Local Conditions</td>\n",
       "      <td>10580.0</td>\n",
       "      <td>Albany-Schenectady-Troy, NY</td>\n",
       "      <td>36</td>\n",
       "      <td>New York</td>\n",
       "      <td>1</td>\n",
       "      <td>Albany</td>\n",
       "      <td>42.64225</td>\n",
       "      <td>-73.75464</td>\n",
       "    </tr>\n",
       "    <tr>\n",
       "      <th>1</th>\n",
       "      <td>01/05/2022</td>\n",
       "      <td>AQS</td>\n",
       "      <td>360010005</td>\n",
       "      <td>1</td>\n",
       "      <td>7.9</td>\n",
       "      <td>ug/m3 LC</td>\n",
       "      <td>33</td>\n",
       "      <td>ALBANY COUNTY HEALTH DEPT</td>\n",
       "      <td>1</td>\n",
       "      <td>100.0</td>\n",
       "      <td>88101</td>\n",
       "      <td>PM2.5 - Local Conditions</td>\n",
       "      <td>10580.0</td>\n",
       "      <td>Albany-Schenectady-Troy, NY</td>\n",
       "      <td>36</td>\n",
       "      <td>New York</td>\n",
       "      <td>1</td>\n",
       "      <td>Albany</td>\n",
       "      <td>42.64225</td>\n",
       "      <td>-73.75464</td>\n",
       "    </tr>\n",
       "    <tr>\n",
       "      <th>2</th>\n",
       "      <td>01/08/2022</td>\n",
       "      <td>AQS</td>\n",
       "      <td>360010005</td>\n",
       "      <td>1</td>\n",
       "      <td>3.9</td>\n",
       "      <td>ug/m3 LC</td>\n",
       "      <td>16</td>\n",
       "      <td>ALBANY COUNTY HEALTH DEPT</td>\n",
       "      <td>1</td>\n",
       "      <td>100.0</td>\n",
       "      <td>88101</td>\n",
       "      <td>PM2.5 - Local Conditions</td>\n",
       "      <td>10580.0</td>\n",
       "      <td>Albany-Schenectady-Troy, NY</td>\n",
       "      <td>36</td>\n",
       "      <td>New York</td>\n",
       "      <td>1</td>\n",
       "      <td>Albany</td>\n",
       "      <td>42.64225</td>\n",
       "      <td>-73.75464</td>\n",
       "    </tr>\n",
       "    <tr>\n",
       "      <th>3</th>\n",
       "      <td>01/11/2022</td>\n",
       "      <td>AQS</td>\n",
       "      <td>360010005</td>\n",
       "      <td>1</td>\n",
       "      <td>6.1</td>\n",
       "      <td>ug/m3 LC</td>\n",
       "      <td>25</td>\n",
       "      <td>ALBANY COUNTY HEALTH DEPT</td>\n",
       "      <td>1</td>\n",
       "      <td>100.0</td>\n",
       "      <td>88101</td>\n",
       "      <td>PM2.5 - Local Conditions</td>\n",
       "      <td>10580.0</td>\n",
       "      <td>Albany-Schenectady-Troy, NY</td>\n",
       "      <td>36</td>\n",
       "      <td>New York</td>\n",
       "      <td>1</td>\n",
       "      <td>Albany</td>\n",
       "      <td>42.64225</td>\n",
       "      <td>-73.75464</td>\n",
       "    </tr>\n",
       "    <tr>\n",
       "      <th>4</th>\n",
       "      <td>01/14/2022</td>\n",
       "      <td>AQS</td>\n",
       "      <td>360010005</td>\n",
       "      <td>1</td>\n",
       "      <td>12.7</td>\n",
       "      <td>ug/m3 LC</td>\n",
       "      <td>52</td>\n",
       "      <td>ALBANY COUNTY HEALTH DEPT</td>\n",
       "      <td>1</td>\n",
       "      <td>100.0</td>\n",
       "      <td>88101</td>\n",
       "      <td>PM2.5 - Local Conditions</td>\n",
       "      <td>10580.0</td>\n",
       "      <td>Albany-Schenectady-Troy, NY</td>\n",
       "      <td>36</td>\n",
       "      <td>New York</td>\n",
       "      <td>1</td>\n",
       "      <td>Albany</td>\n",
       "      <td>42.64225</td>\n",
       "      <td>-73.75464</td>\n",
       "    </tr>\n",
       "  </tbody>\n",
       "</table>\n",
       "</div>"
      ],
      "text/plain": [
       "         Date Source    Site ID  POC  Daily Mean PM2.5 Concentration  \\\n",
       "0  01/02/2022    AQS  360010005    1                             3.0   \n",
       "1  01/05/2022    AQS  360010005    1                             7.9   \n",
       "2  01/08/2022    AQS  360010005    1                             3.9   \n",
       "3  01/11/2022    AQS  360010005    1                             6.1   \n",
       "4  01/14/2022    AQS  360010005    1                            12.7   \n",
       "\n",
       "      UNITS  DAILY_AQI_VALUE                  Site Name  DAILY_OBS_COUNT  \\\n",
       "0  ug/m3 LC               13  ALBANY COUNTY HEALTH DEPT                1   \n",
       "1  ug/m3 LC               33  ALBANY COUNTY HEALTH DEPT                1   \n",
       "2  ug/m3 LC               16  ALBANY COUNTY HEALTH DEPT                1   \n",
       "3  ug/m3 LC               25  ALBANY COUNTY HEALTH DEPT                1   \n",
       "4  ug/m3 LC               52  ALBANY COUNTY HEALTH DEPT                1   \n",
       "\n",
       "   PERCENT_COMPLETE  AQS_PARAMETER_CODE        AQS_PARAMETER_DESC  CBSA_CODE  \\\n",
       "0             100.0               88101  PM2.5 - Local Conditions    10580.0   \n",
       "1             100.0               88101  PM2.5 - Local Conditions    10580.0   \n",
       "2             100.0               88101  PM2.5 - Local Conditions    10580.0   \n",
       "3             100.0               88101  PM2.5 - Local Conditions    10580.0   \n",
       "4             100.0               88101  PM2.5 - Local Conditions    10580.0   \n",
       "\n",
       "                     CBSA_NAME  STATE_CODE     STATE  COUNTY_CODE  COUNTY  \\\n",
       "0  Albany-Schenectady-Troy, NY          36  New York            1  Albany   \n",
       "1  Albany-Schenectady-Troy, NY          36  New York            1  Albany   \n",
       "2  Albany-Schenectady-Troy, NY          36  New York            1  Albany   \n",
       "3  Albany-Schenectady-Troy, NY          36  New York            1  Albany   \n",
       "4  Albany-Schenectady-Troy, NY          36  New York            1  Albany   \n",
       "\n",
       "   SITE_LATITUDE  SITE_LONGITUDE  \n",
       "0       42.64225       -73.75464  \n",
       "1       42.64225       -73.75464  \n",
       "2       42.64225       -73.75464  \n",
       "3       42.64225       -73.75464  \n",
       "4       42.64225       -73.75464  "
      ]
     },
     "execution_count": 2,
     "metadata": {},
     "output_type": "execute_result"
    }
   ],
   "source": [
    "df = pd.read_csv('ad_viz_plotval_data.csv')\n",
    "df.head()"
   ]
  },
  {
   "cell_type": "markdown",
   "id": "8b79164f",
   "metadata": {},
   "source": [
    "# Data Cleaing"
   ]
  },
  {
   "cell_type": "code",
   "execution_count": 3,
   "id": "753c1862",
   "metadata": {},
   "outputs": [
    {
     "data": {
      "text/html": [
       "<div>\n",
       "<style scoped>\n",
       "    .dataframe tbody tr th:only-of-type {\n",
       "        vertical-align: middle;\n",
       "    }\n",
       "\n",
       "    .dataframe tbody tr th {\n",
       "        vertical-align: top;\n",
       "    }\n",
       "\n",
       "    .dataframe thead th {\n",
       "        text-align: right;\n",
       "    }\n",
       "</style>\n",
       "<table border=\"1\" class=\"dataframe\">\n",
       "  <thead>\n",
       "    <tr style=\"text-align: right;\">\n",
       "      <th></th>\n",
       "      <th>Date</th>\n",
       "      <th>Source</th>\n",
       "      <th>Site ID</th>\n",
       "      <th>POC</th>\n",
       "      <th>Daily Mean PM2.5 Concentration</th>\n",
       "      <th>UNITS</th>\n",
       "      <th>DAILY_AQI_VALUE</th>\n",
       "      <th>Site Name</th>\n",
       "      <th>DAILY_OBS_COUNT</th>\n",
       "      <th>PERCENT_COMPLETE</th>\n",
       "      <th>AQS_PARAMETER_CODE</th>\n",
       "      <th>AQS_PARAMETER_DESC</th>\n",
       "      <th>CBSA_CODE</th>\n",
       "      <th>CBSA_NAME</th>\n",
       "      <th>STATE_CODE</th>\n",
       "      <th>STATE</th>\n",
       "      <th>COUNTY_CODE</th>\n",
       "      <th>COUNTY</th>\n",
       "      <th>SITE_LATITUDE</th>\n",
       "      <th>SITE_LONGITUDE</th>\n",
       "    </tr>\n",
       "  </thead>\n",
       "  <tbody>\n",
       "    <tr>\n",
       "      <th>0</th>\n",
       "      <td>01/02/2022</td>\n",
       "      <td>AQS</td>\n",
       "      <td>360010005</td>\n",
       "      <td>1</td>\n",
       "      <td>3.0</td>\n",
       "      <td>ug/m3 LC</td>\n",
       "      <td>13</td>\n",
       "      <td>ALBANY COUNTY HEALTH DEPT</td>\n",
       "      <td>1</td>\n",
       "      <td>100.0</td>\n",
       "      <td>88101</td>\n",
       "      <td>PM2.5 - Local Conditions</td>\n",
       "      <td>10580.0</td>\n",
       "      <td>Albany-Schenectady-Troy, NY</td>\n",
       "      <td>36</td>\n",
       "      <td>New York</td>\n",
       "      <td>1</td>\n",
       "      <td>Albany</td>\n",
       "      <td>42.64225</td>\n",
       "      <td>-73.75464</td>\n",
       "    </tr>\n",
       "    <tr>\n",
       "      <th>1</th>\n",
       "      <td>01/05/2022</td>\n",
       "      <td>AQS</td>\n",
       "      <td>360010005</td>\n",
       "      <td>1</td>\n",
       "      <td>7.9</td>\n",
       "      <td>ug/m3 LC</td>\n",
       "      <td>33</td>\n",
       "      <td>ALBANY COUNTY HEALTH DEPT</td>\n",
       "      <td>1</td>\n",
       "      <td>100.0</td>\n",
       "      <td>88101</td>\n",
       "      <td>PM2.5 - Local Conditions</td>\n",
       "      <td>10580.0</td>\n",
       "      <td>Albany-Schenectady-Troy, NY</td>\n",
       "      <td>36</td>\n",
       "      <td>New York</td>\n",
       "      <td>1</td>\n",
       "      <td>Albany</td>\n",
       "      <td>42.64225</td>\n",
       "      <td>-73.75464</td>\n",
       "    </tr>\n",
       "    <tr>\n",
       "      <th>2</th>\n",
       "      <td>01/08/2022</td>\n",
       "      <td>AQS</td>\n",
       "      <td>360010005</td>\n",
       "      <td>1</td>\n",
       "      <td>3.9</td>\n",
       "      <td>ug/m3 LC</td>\n",
       "      <td>16</td>\n",
       "      <td>ALBANY COUNTY HEALTH DEPT</td>\n",
       "      <td>1</td>\n",
       "      <td>100.0</td>\n",
       "      <td>88101</td>\n",
       "      <td>PM2.5 - Local Conditions</td>\n",
       "      <td>10580.0</td>\n",
       "      <td>Albany-Schenectady-Troy, NY</td>\n",
       "      <td>36</td>\n",
       "      <td>New York</td>\n",
       "      <td>1</td>\n",
       "      <td>Albany</td>\n",
       "      <td>42.64225</td>\n",
       "      <td>-73.75464</td>\n",
       "    </tr>\n",
       "    <tr>\n",
       "      <th>3</th>\n",
       "      <td>01/11/2022</td>\n",
       "      <td>AQS</td>\n",
       "      <td>360010005</td>\n",
       "      <td>1</td>\n",
       "      <td>6.1</td>\n",
       "      <td>ug/m3 LC</td>\n",
       "      <td>25</td>\n",
       "      <td>ALBANY COUNTY HEALTH DEPT</td>\n",
       "      <td>1</td>\n",
       "      <td>100.0</td>\n",
       "      <td>88101</td>\n",
       "      <td>PM2.5 - Local Conditions</td>\n",
       "      <td>10580.0</td>\n",
       "      <td>Albany-Schenectady-Troy, NY</td>\n",
       "      <td>36</td>\n",
       "      <td>New York</td>\n",
       "      <td>1</td>\n",
       "      <td>Albany</td>\n",
       "      <td>42.64225</td>\n",
       "      <td>-73.75464</td>\n",
       "    </tr>\n",
       "    <tr>\n",
       "      <th>4</th>\n",
       "      <td>01/14/2022</td>\n",
       "      <td>AQS</td>\n",
       "      <td>360010005</td>\n",
       "      <td>1</td>\n",
       "      <td>12.7</td>\n",
       "      <td>ug/m3 LC</td>\n",
       "      <td>52</td>\n",
       "      <td>ALBANY COUNTY HEALTH DEPT</td>\n",
       "      <td>1</td>\n",
       "      <td>100.0</td>\n",
       "      <td>88101</td>\n",
       "      <td>PM2.5 - Local Conditions</td>\n",
       "      <td>10580.0</td>\n",
       "      <td>Albany-Schenectady-Troy, NY</td>\n",
       "      <td>36</td>\n",
       "      <td>New York</td>\n",
       "      <td>1</td>\n",
       "      <td>Albany</td>\n",
       "      <td>42.64225</td>\n",
       "      <td>-73.75464</td>\n",
       "    </tr>\n",
       "    <tr>\n",
       "      <th>...</th>\n",
       "      <td>...</td>\n",
       "      <td>...</td>\n",
       "      <td>...</td>\n",
       "      <td>...</td>\n",
       "      <td>...</td>\n",
       "      <td>...</td>\n",
       "      <td>...</td>\n",
       "      <td>...</td>\n",
       "      <td>...</td>\n",
       "      <td>...</td>\n",
       "      <td>...</td>\n",
       "      <td>...</td>\n",
       "      <td>...</td>\n",
       "      <td>...</td>\n",
       "      <td>...</td>\n",
       "      <td>...</td>\n",
       "      <td>...</td>\n",
       "      <td>...</td>\n",
       "      <td>...</td>\n",
       "      <td>...</td>\n",
       "    </tr>\n",
       "    <tr>\n",
       "      <th>11074</th>\n",
       "      <td>12/27/2022</td>\n",
       "      <td>AQS</td>\n",
       "      <td>361192004</td>\n",
       "      <td>3</td>\n",
       "      <td>9.3</td>\n",
       "      <td>ug/m3 LC</td>\n",
       "      <td>39</td>\n",
       "      <td>WHITE PLAINS</td>\n",
       "      <td>1</td>\n",
       "      <td>100.0</td>\n",
       "      <td>88502</td>\n",
       "      <td>Acceptable PM2.5 AQI &amp; Speciation Mass</td>\n",
       "      <td>35620.0</td>\n",
       "      <td>New York-Newark-Jersey City, NY-NJ-PA</td>\n",
       "      <td>36</td>\n",
       "      <td>New York</td>\n",
       "      <td>119</td>\n",
       "      <td>Westchester</td>\n",
       "      <td>41.05192</td>\n",
       "      <td>-73.76366</td>\n",
       "    </tr>\n",
       "    <tr>\n",
       "      <th>11075</th>\n",
       "      <td>12/28/2022</td>\n",
       "      <td>AQS</td>\n",
       "      <td>361192004</td>\n",
       "      <td>3</td>\n",
       "      <td>12.9</td>\n",
       "      <td>ug/m3 LC</td>\n",
       "      <td>53</td>\n",
       "      <td>WHITE PLAINS</td>\n",
       "      <td>1</td>\n",
       "      <td>100.0</td>\n",
       "      <td>88502</td>\n",
       "      <td>Acceptable PM2.5 AQI &amp; Speciation Mass</td>\n",
       "      <td>35620.0</td>\n",
       "      <td>New York-Newark-Jersey City, NY-NJ-PA</td>\n",
       "      <td>36</td>\n",
       "      <td>New York</td>\n",
       "      <td>119</td>\n",
       "      <td>Westchester</td>\n",
       "      <td>41.05192</td>\n",
       "      <td>-73.76366</td>\n",
       "    </tr>\n",
       "    <tr>\n",
       "      <th>11076</th>\n",
       "      <td>12/29/2022</td>\n",
       "      <td>AQS</td>\n",
       "      <td>361192004</td>\n",
       "      <td>3</td>\n",
       "      <td>15.5</td>\n",
       "      <td>ug/m3 LC</td>\n",
       "      <td>58</td>\n",
       "      <td>WHITE PLAINS</td>\n",
       "      <td>1</td>\n",
       "      <td>100.0</td>\n",
       "      <td>88502</td>\n",
       "      <td>Acceptable PM2.5 AQI &amp; Speciation Mass</td>\n",
       "      <td>35620.0</td>\n",
       "      <td>New York-Newark-Jersey City, NY-NJ-PA</td>\n",
       "      <td>36</td>\n",
       "      <td>New York</td>\n",
       "      <td>119</td>\n",
       "      <td>Westchester</td>\n",
       "      <td>41.05192</td>\n",
       "      <td>-73.76366</td>\n",
       "    </tr>\n",
       "    <tr>\n",
       "      <th>11077</th>\n",
       "      <td>12/30/2022</td>\n",
       "      <td>AQS</td>\n",
       "      <td>361192004</td>\n",
       "      <td>3</td>\n",
       "      <td>19.1</td>\n",
       "      <td>ug/m3 LC</td>\n",
       "      <td>66</td>\n",
       "      <td>WHITE PLAINS</td>\n",
       "      <td>1</td>\n",
       "      <td>100.0</td>\n",
       "      <td>88502</td>\n",
       "      <td>Acceptable PM2.5 AQI &amp; Speciation Mass</td>\n",
       "      <td>35620.0</td>\n",
       "      <td>New York-Newark-Jersey City, NY-NJ-PA</td>\n",
       "      <td>36</td>\n",
       "      <td>New York</td>\n",
       "      <td>119</td>\n",
       "      <td>Westchester</td>\n",
       "      <td>41.05192</td>\n",
       "      <td>-73.76366</td>\n",
       "    </tr>\n",
       "    <tr>\n",
       "      <th>11078</th>\n",
       "      <td>12/31/2022</td>\n",
       "      <td>AQS</td>\n",
       "      <td>361192004</td>\n",
       "      <td>3</td>\n",
       "      <td>13.3</td>\n",
       "      <td>ug/m3 LC</td>\n",
       "      <td>54</td>\n",
       "      <td>WHITE PLAINS</td>\n",
       "      <td>1</td>\n",
       "      <td>100.0</td>\n",
       "      <td>88502</td>\n",
       "      <td>Acceptable PM2.5 AQI &amp; Speciation Mass</td>\n",
       "      <td>35620.0</td>\n",
       "      <td>New York-Newark-Jersey City, NY-NJ-PA</td>\n",
       "      <td>36</td>\n",
       "      <td>New York</td>\n",
       "      <td>119</td>\n",
       "      <td>Westchester</td>\n",
       "      <td>41.05192</td>\n",
       "      <td>-73.76366</td>\n",
       "    </tr>\n",
       "  </tbody>\n",
       "</table>\n",
       "<p>11079 rows × 20 columns</p>\n",
       "</div>"
      ],
      "text/plain": [
       "             Date Source    Site ID  POC  Daily Mean PM2.5 Concentration  \\\n",
       "0      01/02/2022    AQS  360010005    1                             3.0   \n",
       "1      01/05/2022    AQS  360010005    1                             7.9   \n",
       "2      01/08/2022    AQS  360010005    1                             3.9   \n",
       "3      01/11/2022    AQS  360010005    1                             6.1   \n",
       "4      01/14/2022    AQS  360010005    1                            12.7   \n",
       "...           ...    ...        ...  ...                             ...   \n",
       "11074  12/27/2022    AQS  361192004    3                             9.3   \n",
       "11075  12/28/2022    AQS  361192004    3                            12.9   \n",
       "11076  12/29/2022    AQS  361192004    3                            15.5   \n",
       "11077  12/30/2022    AQS  361192004    3                            19.1   \n",
       "11078  12/31/2022    AQS  361192004    3                            13.3   \n",
       "\n",
       "          UNITS  DAILY_AQI_VALUE                  Site Name  DAILY_OBS_COUNT  \\\n",
       "0      ug/m3 LC               13  ALBANY COUNTY HEALTH DEPT                1   \n",
       "1      ug/m3 LC               33  ALBANY COUNTY HEALTH DEPT                1   \n",
       "2      ug/m3 LC               16  ALBANY COUNTY HEALTH DEPT                1   \n",
       "3      ug/m3 LC               25  ALBANY COUNTY HEALTH DEPT                1   \n",
       "4      ug/m3 LC               52  ALBANY COUNTY HEALTH DEPT                1   \n",
       "...         ...              ...                        ...              ...   \n",
       "11074  ug/m3 LC               39               WHITE PLAINS                1   \n",
       "11075  ug/m3 LC               53               WHITE PLAINS                1   \n",
       "11076  ug/m3 LC               58               WHITE PLAINS                1   \n",
       "11077  ug/m3 LC               66               WHITE PLAINS                1   \n",
       "11078  ug/m3 LC               54               WHITE PLAINS                1   \n",
       "\n",
       "       PERCENT_COMPLETE  AQS_PARAMETER_CODE  \\\n",
       "0                 100.0               88101   \n",
       "1                 100.0               88101   \n",
       "2                 100.0               88101   \n",
       "3                 100.0               88101   \n",
       "4                 100.0               88101   \n",
       "...                 ...                 ...   \n",
       "11074             100.0               88502   \n",
       "11075             100.0               88502   \n",
       "11076             100.0               88502   \n",
       "11077             100.0               88502   \n",
       "11078             100.0               88502   \n",
       "\n",
       "                           AQS_PARAMETER_DESC  CBSA_CODE  \\\n",
       "0                    PM2.5 - Local Conditions    10580.0   \n",
       "1                    PM2.5 - Local Conditions    10580.0   \n",
       "2                    PM2.5 - Local Conditions    10580.0   \n",
       "3                    PM2.5 - Local Conditions    10580.0   \n",
       "4                    PM2.5 - Local Conditions    10580.0   \n",
       "...                                       ...        ...   \n",
       "11074  Acceptable PM2.5 AQI & Speciation Mass    35620.0   \n",
       "11075  Acceptable PM2.5 AQI & Speciation Mass    35620.0   \n",
       "11076  Acceptable PM2.5 AQI & Speciation Mass    35620.0   \n",
       "11077  Acceptable PM2.5 AQI & Speciation Mass    35620.0   \n",
       "11078  Acceptable PM2.5 AQI & Speciation Mass    35620.0   \n",
       "\n",
       "                                   CBSA_NAME  STATE_CODE     STATE  \\\n",
       "0                Albany-Schenectady-Troy, NY          36  New York   \n",
       "1                Albany-Schenectady-Troy, NY          36  New York   \n",
       "2                Albany-Schenectady-Troy, NY          36  New York   \n",
       "3                Albany-Schenectady-Troy, NY          36  New York   \n",
       "4                Albany-Schenectady-Troy, NY          36  New York   \n",
       "...                                      ...         ...       ...   \n",
       "11074  New York-Newark-Jersey City, NY-NJ-PA          36  New York   \n",
       "11075  New York-Newark-Jersey City, NY-NJ-PA          36  New York   \n",
       "11076  New York-Newark-Jersey City, NY-NJ-PA          36  New York   \n",
       "11077  New York-Newark-Jersey City, NY-NJ-PA          36  New York   \n",
       "11078  New York-Newark-Jersey City, NY-NJ-PA          36  New York   \n",
       "\n",
       "       COUNTY_CODE       COUNTY  SITE_LATITUDE  SITE_LONGITUDE  \n",
       "0                1       Albany       42.64225       -73.75464  \n",
       "1                1       Albany       42.64225       -73.75464  \n",
       "2                1       Albany       42.64225       -73.75464  \n",
       "3                1       Albany       42.64225       -73.75464  \n",
       "4                1       Albany       42.64225       -73.75464  \n",
       "...            ...          ...            ...             ...  \n",
       "11074          119  Westchester       41.05192       -73.76366  \n",
       "11075          119  Westchester       41.05192       -73.76366  \n",
       "11076          119  Westchester       41.05192       -73.76366  \n",
       "11077          119  Westchester       41.05192       -73.76366  \n",
       "11078          119  Westchester       41.05192       -73.76366  \n",
       "\n",
       "[11079 rows x 20 columns]"
      ]
     },
     "execution_count": 3,
     "metadata": {},
     "output_type": "execute_result"
    }
   ],
   "source": [
    "#Removing Duplicates\n",
    "df=df.drop_duplicates()\n",
    "df"
   ]
  },
  {
   "cell_type": "code",
   "execution_count": 4,
   "id": "64d28aad",
   "metadata": {},
   "outputs": [
    {
     "data": {
      "text/plain": [
       "['Date',\n",
       " 'Source',\n",
       " 'Site ID',\n",
       " 'POC',\n",
       " 'Daily Mean PM2.5 Concentration',\n",
       " 'UNITS',\n",
       " 'DAILY_AQI_VALUE',\n",
       " 'Site Name',\n",
       " 'DAILY_OBS_COUNT',\n",
       " 'PERCENT_COMPLETE',\n",
       " 'AQS_PARAMETER_CODE',\n",
       " 'AQS_PARAMETER_DESC',\n",
       " 'CBSA_CODE',\n",
       " 'CBSA_NAME',\n",
       " 'STATE_CODE',\n",
       " 'STATE',\n",
       " 'COUNTY_CODE',\n",
       " 'COUNTY',\n",
       " 'SITE_LATITUDE',\n",
       " 'SITE_LONGITUDE']"
      ]
     },
     "execution_count": 4,
     "metadata": {},
     "output_type": "execute_result"
    }
   ],
   "source": [
    "# getting the columns of the dataset\n",
    "columns = list(df.columns)\n",
    "columns"
   ]
  },
  {
   "cell_type": "code",
   "execution_count": 5,
   "id": "05da6ce3",
   "metadata": {},
   "outputs": [
    {
     "name": "stdout",
     "output_type": "stream",
     "text": [
      "Missing values distribution: \n",
      "Date                              0.000000\n",
      "Source                            0.000000\n",
      "Site ID                           0.000000\n",
      "POC                               0.000000\n",
      "Daily Mean PM2.5 Concentration    0.000000\n",
      "UNITS                             0.000000\n",
      "DAILY_AQI_VALUE                   0.000000\n",
      "Site Name                         0.000000\n",
      "DAILY_OBS_COUNT                   0.000000\n",
      "PERCENT_COMPLETE                  0.000000\n",
      "AQS_PARAMETER_CODE                0.000000\n",
      "AQS_PARAMETER_DESC                0.000000\n",
      "CBSA_CODE                         0.036465\n",
      "CBSA_NAME                         0.036465\n",
      "STATE_CODE                        0.000000\n",
      "STATE                             0.000000\n",
      "COUNTY_CODE                       0.000000\n",
      "COUNTY                            0.000000\n",
      "SITE_LATITUDE                     0.000000\n",
      "SITE_LONGITUDE                    0.000000\n",
      "dtype: float64\n",
      "\n"
     ]
    },
    {
     "data": {
      "text/plain": [
       "<AxesSubplot:>"
      ]
     },
     "execution_count": 5,
     "metadata": {},
     "output_type": "execute_result"
    },
    {
     "data": {
      "image/png": "[encoded data removed]",
      "text/plain": [
       "<Figure size 1080x576 with 2 Axes>"
      ]
     },
     "metadata": {
      "needs_background": "light"
     },
     "output_type": "display_data"
    }
   ],
   "source": [
    "# examining missing values\n",
    "print(\"Missing values distribution: \")\n",
    "print(df.isnull().mean())\n",
    "print(\"\")\n",
    "sns.heatmap(df.isnull(),yticklabels=False)"
   ]
  },
  {
   "cell_type": "code",
   "execution_count": 6,
   "id": "49ceaac6",
   "metadata": {},
   "outputs": [
    {
     "name": "stdout",
     "output_type": "stream",
     "text": [
      "Column datatypes: \n",
      "Date                               object\n",
      "Source                             object\n",
      "Site ID                             int64\n",
      "POC                                 int64\n",
      "Daily Mean PM2.5 Concentration    float64\n",
      "UNITS                              object\n",
      "DAILY_AQI_VALUE                     int64\n",
      "Site Name                          object\n",
      "DAILY_OBS_COUNT                     int64\n",
      "PERCENT_COMPLETE                  float64\n",
      "AQS_PARAMETER_CODE                  int64\n",
      "AQS_PARAMETER_DESC                 object\n",
      "CBSA_CODE                         float64\n",
      "CBSA_NAME                          object\n",
      "STATE_CODE                          int64\n",
      "STATE                              object\n",
      "COUNTY_CODE                         int64\n",
      "COUNTY                             object\n",
      "SITE_LATITUDE                     float64\n",
      "SITE_LONGITUDE                    float64\n",
      "dtype: object\n"
     ]
    }
   ],
   "source": [
    "# check datatype in each column\n",
    "print(\"Column datatypes: \")\n",
    "print(df.dtypes)"
   ]
  },
  {
   "cell_type": "code",
   "execution_count": 7,
   "id": "ed09ac82",
   "metadata": {},
   "outputs": [
    {
     "data": {
      "text/html": [
       "<div>\n",
       "<style scoped>\n",
       "    .dataframe tbody tr th:only-of-type {\n",
       "        vertical-align: middle;\n",
       "    }\n",
       "\n",
       "    .dataframe tbody tr th {\n",
       "        vertical-align: top;\n",
       "    }\n",
       "\n",
       "    .dataframe thead th {\n",
       "        text-align: right;\n",
       "    }\n",
       "</style>\n",
       "<table border=\"1\" class=\"dataframe\">\n",
       "  <thead>\n",
       "    <tr style=\"text-align: right;\">\n",
       "      <th></th>\n",
       "      <th>Date</th>\n",
       "      <th>Source</th>\n",
       "      <th>Site ID</th>\n",
       "      <th>POC</th>\n",
       "      <th>Daily Mean PM2.5 Concentration</th>\n",
       "      <th>UNITS</th>\n",
       "      <th>DAILY_AQI_VALUE</th>\n",
       "      <th>Site Name</th>\n",
       "      <th>DAILY_OBS_COUNT</th>\n",
       "      <th>PERCENT_COMPLETE</th>\n",
       "      <th>AQS_PARAMETER_CODE</th>\n",
       "      <th>AQS_PARAMETER_DESC</th>\n",
       "      <th>CBSA_CODE</th>\n",
       "      <th>CBSA_NAME</th>\n",
       "      <th>STATE_CODE</th>\n",
       "      <th>STATE</th>\n",
       "      <th>COUNTY_CODE</th>\n",
       "      <th>COUNTY</th>\n",
       "      <th>SITE_LATITUDE</th>\n",
       "      <th>SITE_LONGITUDE</th>\n",
       "    </tr>\n",
       "  </thead>\n",
       "  <tbody>\n",
       "    <tr>\n",
       "      <th>0</th>\n",
       "      <td>01/02/2022</td>\n",
       "      <td>AQS</td>\n",
       "      <td>360010005</td>\n",
       "      <td>1</td>\n",
       "      <td>3.0</td>\n",
       "      <td>ug/m3 LC</td>\n",
       "      <td>13</td>\n",
       "      <td>ALBANY COUNTY HEALTH DEPT</td>\n",
       "      <td>1</td>\n",
       "      <td>100.0</td>\n",
       "      <td>88101</td>\n",
       "      <td>PM2.5 - Local Conditions</td>\n",
       "      <td>10580.0</td>\n",
       "      <td>Albany-Schenectady-Troy, NY</td>\n",
       "      <td>36</td>\n",
       "      <td>New York</td>\n",
       "      <td>1</td>\n",
       "      <td>Albany</td>\n",
       "      <td>42.64225</td>\n",
       "      <td>-73.75464</td>\n",
       "    </tr>\n",
       "    <tr>\n",
       "      <th>1</th>\n",
       "      <td>01/05/2022</td>\n",
       "      <td>AQS</td>\n",
       "      <td>360010005</td>\n",
       "      <td>1</td>\n",
       "      <td>7.9</td>\n",
       "      <td>ug/m3 LC</td>\n",
       "      <td>33</td>\n",
       "      <td>ALBANY COUNTY HEALTH DEPT</td>\n",
       "      <td>1</td>\n",
       "      <td>100.0</td>\n",
       "      <td>88101</td>\n",
       "      <td>PM2.5 - Local Conditions</td>\n",
       "      <td>10580.0</td>\n",
       "      <td>Albany-Schenectady-Troy, NY</td>\n",
       "      <td>36</td>\n",
       "      <td>New York</td>\n",
       "      <td>1</td>\n",
       "      <td>Albany</td>\n",
       "      <td>42.64225</td>\n",
       "      <td>-73.75464</td>\n",
       "    </tr>\n",
       "    <tr>\n",
       "      <th>2</th>\n",
       "      <td>01/08/2022</td>\n",
       "      <td>AQS</td>\n",
       "      <td>360010005</td>\n",
       "      <td>1</td>\n",
       "      <td>3.9</td>\n",
       "      <td>ug/m3 LC</td>\n",
       "      <td>16</td>\n",
       "      <td>ALBANY COUNTY HEALTH DEPT</td>\n",
       "      <td>1</td>\n",
       "      <td>100.0</td>\n",
       "      <td>88101</td>\n",
       "      <td>PM2.5 - Local Conditions</td>\n",
       "      <td>10580.0</td>\n",
       "      <td>Albany-Schenectady-Troy, NY</td>\n",
       "      <td>36</td>\n",
       "      <td>New York</td>\n",
       "      <td>1</td>\n",
       "      <td>Albany</td>\n",
       "      <td>42.64225</td>\n",
       "      <td>-73.75464</td>\n",
       "    </tr>\n",
       "    <tr>\n",
       "      <th>3</th>\n",
       "      <td>01/11/2022</td>\n",
       "      <td>AQS</td>\n",
       "      <td>360010005</td>\n",
       "      <td>1</td>\n",
       "      <td>6.1</td>\n",
       "      <td>ug/m3 LC</td>\n",
       "      <td>25</td>\n",
       "      <td>ALBANY COUNTY HEALTH DEPT</td>\n",
       "      <td>1</td>\n",
       "      <td>100.0</td>\n",
       "      <td>88101</td>\n",
       "      <td>PM2.5 - Local Conditions</td>\n",
       "      <td>10580.0</td>\n",
       "      <td>Albany-Schenectady-Troy, NY</td>\n",
       "      <td>36</td>\n",
       "      <td>New York</td>\n",
       "      <td>1</td>\n",
       "      <td>Albany</td>\n",
       "      <td>42.64225</td>\n",
       "      <td>-73.75464</td>\n",
       "    </tr>\n",
       "    <tr>\n",
       "      <th>4</th>\n",
       "      <td>01/14/2022</td>\n",
       "      <td>AQS</td>\n",
       "      <td>360010005</td>\n",
       "      <td>1</td>\n",
       "      <td>12.7</td>\n",
       "      <td>ug/m3 LC</td>\n",
       "      <td>52</td>\n",
       "      <td>ALBANY COUNTY HEALTH DEPT</td>\n",
       "      <td>1</td>\n",
       "      <td>100.0</td>\n",
       "      <td>88101</td>\n",
       "      <td>PM2.5 - Local Conditions</td>\n",
       "      <td>10580.0</td>\n",
       "      <td>Albany-Schenectady-Troy, NY</td>\n",
       "      <td>36</td>\n",
       "      <td>New York</td>\n",
       "      <td>1</td>\n",
       "      <td>Albany</td>\n",
       "      <td>42.64225</td>\n",
       "      <td>-73.75464</td>\n",
       "    </tr>\n",
       "    <tr>\n",
       "      <th>...</th>\n",
       "      <td>...</td>\n",
       "      <td>...</td>\n",
       "      <td>...</td>\n",
       "      <td>...</td>\n",
       "      <td>...</td>\n",
       "      <td>...</td>\n",
       "      <td>...</td>\n",
       "      <td>...</td>\n",
       "      <td>...</td>\n",
       "      <td>...</td>\n",
       "      <td>...</td>\n",
       "      <td>...</td>\n",
       "      <td>...</td>\n",
       "      <td>...</td>\n",
       "      <td>...</td>\n",
       "      <td>...</td>\n",
       "      <td>...</td>\n",
       "      <td>...</td>\n",
       "      <td>...</td>\n",
       "      <td>...</td>\n",
       "    </tr>\n",
       "    <tr>\n",
       "      <th>11074</th>\n",
       "      <td>12/27/2022</td>\n",
       "      <td>AQS</td>\n",
       "      <td>361192004</td>\n",
       "      <td>3</td>\n",
       "      <td>9.3</td>\n",
       "      <td>ug/m3 LC</td>\n",
       "      <td>39</td>\n",
       "      <td>WHITE PLAINS</td>\n",
       "      <td>1</td>\n",
       "      <td>100.0</td>\n",
       "      <td>88502</td>\n",
       "      <td>Acceptable PM2.5 AQI &amp; Speciation Mass</td>\n",
       "      <td>35620.0</td>\n",
       "      <td>New York-Newark-Jersey City, NY-NJ-PA</td>\n",
       "      <td>36</td>\n",
       "      <td>New York</td>\n",
       "      <td>119</td>\n",
       "      <td>Westchester</td>\n",
       "      <td>41.05192</td>\n",
       "      <td>-73.76366</td>\n",
       "    </tr>\n",
       "    <tr>\n",
       "      <th>11075</th>\n",
       "      <td>12/28/2022</td>\n",
       "      <td>AQS</td>\n",
       "      <td>361192004</td>\n",
       "      <td>3</td>\n",
       "      <td>12.9</td>\n",
       "      <td>ug/m3 LC</td>\n",
       "      <td>53</td>\n",
       "      <td>WHITE PLAINS</td>\n",
       "      <td>1</td>\n",
       "      <td>100.0</td>\n",
       "      <td>88502</td>\n",
       "      <td>Acceptable PM2.5 AQI &amp; Speciation Mass</td>\n",
       "      <td>35620.0</td>\n",
       "      <td>New York-Newark-Jersey City, NY-NJ-PA</td>\n",
       "      <td>36</td>\n",
       "      <td>New York</td>\n",
       "      <td>119</td>\n",
       "      <td>Westchester</td>\n",
       "      <td>41.05192</td>\n",
       "      <td>-73.76366</td>\n",
       "    </tr>\n",
       "    <tr>\n",
       "      <th>11076</th>\n",
       "      <td>12/29/2022</td>\n",
       "      <td>AQS</td>\n",
       "      <td>361192004</td>\n",
       "      <td>3</td>\n",
       "      <td>15.5</td>\n",
       "      <td>ug/m3 LC</td>\n",
       "      <td>58</td>\n",
       "      <td>WHITE PLAINS</td>\n",
       "      <td>1</td>\n",
       "      <td>100.0</td>\n",
       "      <td>88502</td>\n",
       "      <td>Acceptable PM2.5 AQI &amp; Speciation Mass</td>\n",
       "      <td>35620.0</td>\n",
       "      <td>New York-Newark-Jersey City, NY-NJ-PA</td>\n",
       "      <td>36</td>\n",
       "      <td>New York</td>\n",
       "      <td>119</td>\n",
       "      <td>Westchester</td>\n",
       "      <td>41.05192</td>\n",
       "      <td>-73.76366</td>\n",
       "    </tr>\n",
       "    <tr>\n",
       "      <th>11077</th>\n",
       "      <td>12/30/2022</td>\n",
       "      <td>AQS</td>\n",
       "      <td>361192004</td>\n",
       "      <td>3</td>\n",
       "      <td>19.1</td>\n",
       "      <td>ug/m3 LC</td>\n",
       "      <td>66</td>\n",
       "      <td>WHITE PLAINS</td>\n",
       "      <td>1</td>\n",
       "      <td>100.0</td>\n",
       "      <td>88502</td>\n",
       "      <td>Acceptable PM2.5 AQI &amp; Speciation Mass</td>\n",
       "      <td>35620.0</td>\n",
       "      <td>New York-Newark-Jersey City, NY-NJ-PA</td>\n",
       "      <td>36</td>\n",
       "      <td>New York</td>\n",
       "      <td>119</td>\n",
       "      <td>Westchester</td>\n",
       "      <td>41.05192</td>\n",
       "      <td>-73.76366</td>\n",
       "    </tr>\n",
       "    <tr>\n",
       "      <th>11078</th>\n",
       "      <td>12/31/2022</td>\n",
       "      <td>AQS</td>\n",
       "      <td>361192004</td>\n",
       "      <td>3</td>\n",
       "      <td>13.3</td>\n",
       "      <td>ug/m3 LC</td>\n",
       "      <td>54</td>\n",
       "      <td>WHITE PLAINS</td>\n",
       "      <td>1</td>\n",
       "      <td>100.0</td>\n",
       "      <td>88502</td>\n",
       "      <td>Acceptable PM2.5 AQI &amp; Speciation Mass</td>\n",
       "      <td>35620.0</td>\n",
       "      <td>New York-Newark-Jersey City, NY-NJ-PA</td>\n",
       "      <td>36</td>\n",
       "      <td>New York</td>\n",
       "      <td>119</td>\n",
       "      <td>Westchester</td>\n",
       "      <td>41.05192</td>\n",
       "      <td>-73.76366</td>\n",
       "    </tr>\n",
       "  </tbody>\n",
       "</table>\n",
       "<p>10675 rows × 20 columns</p>\n",
       "</div>"
      ],
      "text/plain": [
       "             Date Source    Site ID  POC  Daily Mean PM2.5 Concentration  \\\n",
       "0      01/02/2022    AQS  360010005    1                             3.0   \n",
       "1      01/05/2022    AQS  360010005    1                             7.9   \n",
       "2      01/08/2022    AQS  360010005    1                             3.9   \n",
       "3      01/11/2022    AQS  360010005    1                             6.1   \n",
       "4      01/14/2022    AQS  360010005    1                            12.7   \n",
       "...           ...    ...        ...  ...                             ...   \n",
       "11074  12/27/2022    AQS  361192004    3                             9.3   \n",
       "11075  12/28/2022    AQS  361192004    3                            12.9   \n",
       "11076  12/29/2022    AQS  361192004    3                            15.5   \n",
       "11077  12/30/2022    AQS  361192004    3                            19.1   \n",
       "11078  12/31/2022    AQS  361192004    3                            13.3   \n",
       "\n",
       "          UNITS  DAILY_AQI_VALUE                  Site Name  DAILY_OBS_COUNT  \\\n",
       "0      ug/m3 LC               13  ALBANY COUNTY HEALTH DEPT                1   \n",
       "1      ug/m3 LC               33  ALBANY COUNTY HEALTH DEPT                1   \n",
       "2      ug/m3 LC               16  ALBANY COUNTY HEALTH DEPT                1   \n",
       "3      ug/m3 LC               25  ALBANY COUNTY HEALTH DEPT                1   \n",
       "4      ug/m3 LC               52  ALBANY COUNTY HEALTH DEPT                1   \n",
       "...         ...              ...                        ...              ...   \n",
       "11074  ug/m3 LC               39               WHITE PLAINS                1   \n",
       "11075  ug/m3 LC               53               WHITE PLAINS                1   \n",
       "11076  ug/m3 LC               58               WHITE PLAINS                1   \n",
       "11077  ug/m3 LC               66               WHITE PLAINS                1   \n",
       "11078  ug/m3 LC               54               WHITE PLAINS                1   \n",
       "\n",
       "       PERCENT_COMPLETE  AQS_PARAMETER_CODE  \\\n",
       "0                 100.0               88101   \n",
       "1                 100.0               88101   \n",
       "2                 100.0               88101   \n",
       "3                 100.0               88101   \n",
       "4                 100.0               88101   \n",
       "...                 ...                 ...   \n",
       "11074             100.0               88502   \n",
       "11075             100.0               88502   \n",
       "11076             100.0               88502   \n",
       "11077             100.0               88502   \n",
       "11078             100.0               88502   \n",
       "\n",
       "                           AQS_PARAMETER_DESC  CBSA_CODE  \\\n",
       "0                    PM2.5 - Local Conditions    10580.0   \n",
       "1                    PM2.5 - Local Conditions    10580.0   \n",
       "2                    PM2.5 - Local Conditions    10580.0   \n",
       "3                    PM2.5 - Local Conditions    10580.0   \n",
       "4                    PM2.5 - Local Conditions    10580.0   \n",
       "...                                       ...        ...   \n",
       "11074  Acceptable PM2.5 AQI & Speciation Mass    35620.0   \n",
       "11075  Acceptable PM2.5 AQI & Speciation Mass    35620.0   \n",
       "11076  Acceptable PM2.5 AQI & Speciation Mass    35620.0   \n",
       "11077  Acceptable PM2.5 AQI & Speciation Mass    35620.0   \n",
       "11078  Acceptable PM2.5 AQI & Speciation Mass    35620.0   \n",
       "\n",
       "                                   CBSA_NAME  STATE_CODE     STATE  \\\n",
       "0                Albany-Schenectady-Troy, NY          36  New York   \n",
       "1                Albany-Schenectady-Troy, NY          36  New York   \n",
       "2                Albany-Schenectady-Troy, NY          36  New York   \n",
       "3                Albany-Schenectady-Troy, NY          36  New York   \n",
       "4                Albany-Schenectady-Troy, NY          36  New York   \n",
       "...                                      ...         ...       ...   \n",
       "11074  New York-Newark-Jersey City, NY-NJ-PA          36  New York   \n",
       "11075  New York-Newark-Jersey City, NY-NJ-PA          36  New York   \n",
       "11076  New York-Newark-Jersey City, NY-NJ-PA          36  New York   \n",
       "11077  New York-Newark-Jersey City, NY-NJ-PA          36  New York   \n",
       "11078  New York-Newark-Jersey City, NY-NJ-PA          36  New York   \n",
       "\n",
       "       COUNTY_CODE       COUNTY  SITE_LATITUDE  SITE_LONGITUDE  \n",
       "0                1       Albany       42.64225       -73.75464  \n",
       "1                1       Albany       42.64225       -73.75464  \n",
       "2                1       Albany       42.64225       -73.75464  \n",
       "3                1       Albany       42.64225       -73.75464  \n",
       "4                1       Albany       42.64225       -73.75464  \n",
       "...            ...          ...            ...             ...  \n",
       "11074          119  Westchester       41.05192       -73.76366  \n",
       "11075          119  Westchester       41.05192       -73.76366  \n",
       "11076          119  Westchester       41.05192       -73.76366  \n",
       "11077          119  Westchester       41.05192       -73.76366  \n",
       "11078          119  Westchester       41.05192       -73.76366  \n",
       "\n",
       "[10675 rows x 20 columns]"
      ]
     },
     "execution_count": 7,
     "metadata": {},
     "output_type": "execute_result"
    }
   ],
   "source": [
    "df=df.dropna()\n",
    "df"
   ]
  },
  {
   "cell_type": "code",
   "execution_count": 8,
   "id": "29c7d7c3",
   "metadata": {},
   "outputs": [
    {
     "data": {
      "text/plain": [
       "<AxesSubplot:>"
      ]
     },
     "execution_count": 8,
     "metadata": {},
     "output_type": "execute_result"
    },
    {
     "data": {
      "image/png": "[encoded data removed]",
      "text/plain": [
       "<Figure size 1080x576 with 2 Axes>"
      ]
     },
     "metadata": {
      "needs_background": "light"
     },
     "output_type": "display_data"
    }
   ],
   "source": [
    "sns.heatmap(df.isnull(),yticklabels=False)"
   ]
  },
  {
   "cell_type": "code",
   "execution_count": 9,
   "id": "a2e502dc",
   "metadata": {},
   "outputs": [
    {
     "data": {
      "text/html": [
       "<div>\n",
       "<style scoped>\n",
       "    .dataframe tbody tr th:only-of-type {\n",
       "        vertical-align: middle;\n",
       "    }\n",
       "\n",
       "    .dataframe tbody tr th {\n",
       "        vertical-align: top;\n",
       "    }\n",
       "\n",
       "    .dataframe thead th {\n",
       "        text-align: right;\n",
       "    }\n",
       "</style>\n",
       "<table border=\"1\" class=\"dataframe\">\n",
       "  <thead>\n",
       "    <tr style=\"text-align: right;\">\n",
       "      <th></th>\n",
       "      <th>Site ID</th>\n",
       "      <th>POC</th>\n",
       "      <th>Daily Mean PM2.5 Concentration</th>\n",
       "      <th>DAILY_AQI_VALUE</th>\n",
       "      <th>DAILY_OBS_COUNT</th>\n",
       "      <th>PERCENT_COMPLETE</th>\n",
       "      <th>AQS_PARAMETER_CODE</th>\n",
       "      <th>CBSA_CODE</th>\n",
       "      <th>STATE_CODE</th>\n",
       "      <th>COUNTY_CODE</th>\n",
       "      <th>SITE_LATITUDE</th>\n",
       "      <th>SITE_LONGITUDE</th>\n",
       "    </tr>\n",
       "  </thead>\n",
       "  <tbody>\n",
       "    <tr>\n",
       "      <th>count</th>\n",
       "      <td>1.067500e+04</td>\n",
       "      <td>10675.000000</td>\n",
       "      <td>10675.000000</td>\n",
       "      <td>10675.000000</td>\n",
       "      <td>10675.0</td>\n",
       "      <td>10675.0</td>\n",
       "      <td>10675.000000</td>\n",
       "      <td>10675.000000</td>\n",
       "      <td>10675.0</td>\n",
       "      <td>10675.000000</td>\n",
       "      <td>10675.000000</td>\n",
       "      <td>10675.000000</td>\n",
       "    </tr>\n",
       "    <tr>\n",
       "      <th>mean</th>\n",
       "      <td>3.605811e+08</td>\n",
       "      <td>2.608525</td>\n",
       "      <td>6.434145</td>\n",
       "      <td>26.470258</td>\n",
       "      <td>1.0</td>\n",
       "      <td>100.0</td>\n",
       "      <td>88341.224356</td>\n",
       "      <td>31877.161593</td>\n",
       "      <td>36.0</td>\n",
       "      <td>58.082904</td>\n",
       "      <td>41.638003</td>\n",
       "      <td>-75.118219</td>\n",
       "    </tr>\n",
       "    <tr>\n",
       "      <th>std</th>\n",
       "      <td>3.174097e+05</td>\n",
       "      <td>1.055026</td>\n",
       "      <td>3.583471</td>\n",
       "      <td>13.624482</td>\n",
       "      <td>0.0</td>\n",
       "      <td>0.0</td>\n",
       "      <td>196.534587</td>\n",
       "      <td>9908.029891</td>\n",
       "      <td>0.0</td>\n",
       "      <td>31.729053</td>\n",
       "      <td>1.019834</td>\n",
       "      <td>1.921739</td>\n",
       "    </tr>\n",
       "    <tr>\n",
       "      <th>min</th>\n",
       "      <td>3.600100e+08</td>\n",
       "      <td>1.000000</td>\n",
       "      <td>-1.400000</td>\n",
       "      <td>0.000000</td>\n",
       "      <td>1.0</td>\n",
       "      <td>100.0</td>\n",
       "      <td>88101.000000</td>\n",
       "      <td>10580.000000</td>\n",
       "      <td>36.0</td>\n",
       "      <td>1.000000</td>\n",
       "      <td>40.580270</td>\n",
       "      <td>-79.318810</td>\n",
       "    </tr>\n",
       "    <tr>\n",
       "      <th>25%</th>\n",
       "      <td>3.602910e+08</td>\n",
       "      <td>1.000000</td>\n",
       "      <td>4.000000</td>\n",
       "      <td>17.000000</td>\n",
       "      <td>1.0</td>\n",
       "      <td>100.0</td>\n",
       "      <td>88101.000000</td>\n",
       "      <td>35620.000000</td>\n",
       "      <td>36.0</td>\n",
       "      <td>29.000000</td>\n",
       "      <td>40.739264</td>\n",
       "      <td>-77.209780</td>\n",
       "    </tr>\n",
       "    <tr>\n",
       "      <th>50%</th>\n",
       "      <td>3.606101e+08</td>\n",
       "      <td>3.000000</td>\n",
       "      <td>5.800000</td>\n",
       "      <td>24.000000</td>\n",
       "      <td>1.0</td>\n",
       "      <td>100.0</td>\n",
       "      <td>88502.000000</td>\n",
       "      <td>35620.000000</td>\n",
       "      <td>36.0</td>\n",
       "      <td>61.000000</td>\n",
       "      <td>41.051920</td>\n",
       "      <td>-74.008850</td>\n",
       "    </tr>\n",
       "    <tr>\n",
       "      <th>75%</th>\n",
       "      <td>3.608101e+08</td>\n",
       "      <td>3.000000</td>\n",
       "      <td>8.200000</td>\n",
       "      <td>34.000000</td>\n",
       "      <td>1.0</td>\n",
       "      <td>100.0</td>\n",
       "      <td>88502.000000</td>\n",
       "      <td>35620.000000</td>\n",
       "      <td>36.0</td>\n",
       "      <td>81.000000</td>\n",
       "      <td>42.876907</td>\n",
       "      <td>-73.821530</td>\n",
       "    </tr>\n",
       "    <tr>\n",
       "      <th>max</th>\n",
       "      <td>3.611920e+08</td>\n",
       "      <td>4.000000</td>\n",
       "      <td>46.200000</td>\n",
       "      <td>127.000000</td>\n",
       "      <td>1.0</td>\n",
       "      <td>100.0</td>\n",
       "      <td>88502.000000</td>\n",
       "      <td>46540.000000</td>\n",
       "      <td>36.0</td>\n",
       "      <td>119.000000</td>\n",
       "      <td>43.146180</td>\n",
       "      <td>-73.057540</td>\n",
       "    </tr>\n",
       "  </tbody>\n",
       "</table>\n",
       "</div>"
      ],
      "text/plain": [
       "            Site ID           POC  Daily Mean PM2.5 Concentration  \\\n",
       "count  1.067500e+04  10675.000000                    10675.000000   \n",
       "mean   3.605811e+08      2.608525                        6.434145   \n",
       "std    3.174097e+05      1.055026                        3.583471   \n",
       "min    3.600100e+08      1.000000                       -1.400000   \n",
       "25%    3.602910e+08      1.000000                        4.000000   \n",
       "50%    3.606101e+08      3.000000                        5.800000   \n",
       "75%    3.608101e+08      3.000000                        8.200000   \n",
       "max    3.611920e+08      4.000000                       46.200000   \n",
       "\n",
       "       DAILY_AQI_VALUE  DAILY_OBS_COUNT  PERCENT_COMPLETE  AQS_PARAMETER_CODE  \\\n",
       "count     10675.000000          10675.0           10675.0        10675.000000   \n",
       "mean         26.470258              1.0             100.0        88341.224356   \n",
       "std          13.624482              0.0               0.0          196.534587   \n",
       "min           0.000000              1.0             100.0        88101.000000   \n",
       "25%          17.000000              1.0             100.0        88101.000000   \n",
       "50%          24.000000              1.0             100.0        88502.000000   \n",
       "75%          34.000000              1.0             100.0        88502.000000   \n",
       "max         127.000000              1.0             100.0        88502.000000   \n",
       "\n",
       "          CBSA_CODE  STATE_CODE   COUNTY_CODE  SITE_LATITUDE  SITE_LONGITUDE  \n",
       "count  10675.000000     10675.0  10675.000000   10675.000000    10675.000000  \n",
       "mean   31877.161593        36.0     58.082904      41.638003      -75.118219  \n",
       "std     9908.029891         0.0     31.729053       1.019834        1.921739  \n",
       "min    10580.000000        36.0      1.000000      40.580270      -79.318810  \n",
       "25%    35620.000000        36.0     29.000000      40.739264      -77.209780  \n",
       "50%    35620.000000        36.0     61.000000      41.051920      -74.008850  \n",
       "75%    35620.000000        36.0     81.000000      42.876907      -73.821530  \n",
       "max    46540.000000        36.0    119.000000      43.146180      -73.057540  "
      ]
     },
     "execution_count": 9,
     "metadata": {},
     "output_type": "execute_result"
    }
   ],
   "source": [
    "df.describe()"
   ]
  },
  {
   "cell_type": "markdown",
   "id": "0c51e7d7",
   "metadata": {},
   "source": [
    "### Outliers\n"
   ]
  },
  {
   "cell_type": "code",
   "execution_count": 10,
   "id": "d1e6a68d",
   "metadata": {},
   "outputs": [
    {
     "data": {
      "image/png": "[encoded data removed]",
      "text/plain": [
       "<Figure size 1080x576 with 1 Axes>"
      ]
     },
     "metadata": {
      "needs_background": "light"
     },
     "output_type": "display_data"
    }
   ],
   "source": [
    "sns.distplot(df['Daily Mean PM2.5 Concentration'], hist=True, kde=True, \n",
    "             bins=20, color = 'black', \n",
    "             hist_kws={'edgecolor':'black'},\n",
    "             kde_kws={'linewidth': 3})\n",
    "sns.set_style(\"darkgrid\")"
   ]
  },
  {
   "cell_type": "code",
   "execution_count": 11,
   "id": "a2367da5",
   "metadata": {},
   "outputs": [
    {
     "data": {
      "image/png": "[encoded data removed]",
      "text/plain": [
       "<Figure size 1440x720 with 1 Axes>"
      ]
     },
     "metadata": {},
     "output_type": "display_data"
    }
   ],
   "source": [
    "plt.figure(figsize = (20, 10))\n",
    "sns.boxplot(data = df['Daily Mean PM2.5 Concentration'])\n",
    "sns.set_style(\"darkgrid\")"
   ]
  },
  {
   "cell_type": "code",
   "execution_count": 12,
   "id": "04498366",
   "metadata": {},
   "outputs": [
    {
     "data": {
      "text/plain": [
       "-1.4"
      ]
     },
     "execution_count": 12,
     "metadata": {},
     "output_type": "execute_result"
    }
   ],
   "source": [
    "df['Daily Mean PM2.5 Concentration'].min()"
   ]
  },
  {
   "cell_type": "code",
   "execution_count": 13,
   "id": "19360705",
   "metadata": {},
   "outputs": [
    {
     "data": {
      "text/plain": [
       "46.2"
      ]
     },
     "execution_count": 13,
     "metadata": {},
     "output_type": "execute_result"
    }
   ],
   "source": [
    "df['Daily Mean PM2.5 Concentration'].max()"
   ]
  },
  {
   "cell_type": "code",
   "execution_count": 14,
   "id": "656a3b55",
   "metadata": {},
   "outputs": [
    {
     "data": {
      "text/plain": [
       "count    10675.000000\n",
       "mean         6.434145\n",
       "std          3.583471\n",
       "min         -1.400000\n",
       "25%          4.000000\n",
       "50%          5.800000\n",
       "75%          8.200000\n",
       "max         46.200000\n",
       "Name: Daily Mean PM2.5 Concentration, dtype: float64"
      ]
     },
     "execution_count": 14,
     "metadata": {},
     "output_type": "execute_result"
    }
   ],
   "source": [
    "df['Daily Mean PM2.5 Concentration'].describe()"
   ]
  },
  {
   "cell_type": "code",
   "execution_count": 15,
   "id": "dadb7abd",
   "metadata": {},
   "outputs": [
    {
     "data": {
      "text/plain": [
       "17.184558504382935"
      ]
     },
     "execution_count": 15,
     "metadata": {},
     "output_type": "execute_result"
    }
   ],
   "source": [
    "upper_limit = df['Daily Mean PM2.5 Concentration'].mean() + 3*df['Daily Mean PM2.5 Concentration'].std()\n",
    "upper_limit"
   ]
  },
  {
   "cell_type": "code",
   "execution_count": 16,
   "id": "5dd2d508",
   "metadata": {},
   "outputs": [
    {
     "data": {
      "text/plain": [
       "-4.316268106256482"
      ]
     },
     "execution_count": 16,
     "metadata": {},
     "output_type": "execute_result"
    }
   ],
   "source": [
    "lower_limit = df['Daily Mean PM2.5 Concentration'].mean() - 3*df['Daily Mean PM2.5 Concentration'].std()\n",
    "lower_limit"
   ]
  },
  {
   "cell_type": "code",
   "execution_count": 17,
   "id": "92824eb4",
   "metadata": {},
   "outputs": [
    {
     "data": {
      "text/html": [
       "<div>\n",
       "<style scoped>\n",
       "    .dataframe tbody tr th:only-of-type {\n",
       "        vertical-align: middle;\n",
       "    }\n",
       "\n",
       "    .dataframe tbody tr th {\n",
       "        vertical-align: top;\n",
       "    }\n",
       "\n",
       "    .dataframe thead th {\n",
       "        text-align: right;\n",
       "    }\n",
       "</style>\n",
       "<table border=\"1\" class=\"dataframe\">\n",
       "  <thead>\n",
       "    <tr style=\"text-align: right;\">\n",
       "      <th></th>\n",
       "      <th>Date</th>\n",
       "      <th>Source</th>\n",
       "      <th>Site ID</th>\n",
       "      <th>POC</th>\n",
       "      <th>Daily Mean PM2.5 Concentration</th>\n",
       "      <th>UNITS</th>\n",
       "      <th>DAILY_AQI_VALUE</th>\n",
       "      <th>Site Name</th>\n",
       "      <th>DAILY_OBS_COUNT</th>\n",
       "      <th>PERCENT_COMPLETE</th>\n",
       "      <th>AQS_PARAMETER_CODE</th>\n",
       "      <th>AQS_PARAMETER_DESC</th>\n",
       "      <th>CBSA_CODE</th>\n",
       "      <th>CBSA_NAME</th>\n",
       "      <th>STATE_CODE</th>\n",
       "      <th>STATE</th>\n",
       "      <th>COUNTY_CODE</th>\n",
       "      <th>COUNTY</th>\n",
       "      <th>SITE_LATITUDE</th>\n",
       "      <th>SITE_LONGITUDE</th>\n",
       "    </tr>\n",
       "  </thead>\n",
       "  <tbody>\n",
       "    <tr>\n",
       "      <th>37</th>\n",
       "      <td>05/14/2022</td>\n",
       "      <td>AQS</td>\n",
       "      <td>360010005</td>\n",
       "      <td>1</td>\n",
       "      <td>29.0</td>\n",
       "      <td>ug/m3 LC</td>\n",
       "      <td>87</td>\n",
       "      <td>ALBANY COUNTY HEALTH DEPT</td>\n",
       "      <td>1</td>\n",
       "      <td>100.0</td>\n",
       "      <td>88101</td>\n",
       "      <td>PM2.5 - Local Conditions</td>\n",
       "      <td>10580.0</td>\n",
       "      <td>Albany-Schenectady-Troy, NY</td>\n",
       "      <td>36</td>\n",
       "      <td>New York</td>\n",
       "      <td>1</td>\n",
       "      <td>Albany</td>\n",
       "      <td>42.64225</td>\n",
       "      <td>-73.75464</td>\n",
       "    </tr>\n",
       "    <tr>\n",
       "      <th>111</th>\n",
       "      <td>12/22/2022</td>\n",
       "      <td>AQS</td>\n",
       "      <td>360010005</td>\n",
       "      <td>1</td>\n",
       "      <td>18.6</td>\n",
       "      <td>ug/m3 LC</td>\n",
       "      <td>65</td>\n",
       "      <td>ALBANY COUNTY HEALTH DEPT</td>\n",
       "      <td>1</td>\n",
       "      <td>100.0</td>\n",
       "      <td>88101</td>\n",
       "      <td>PM2.5 - Local Conditions</td>\n",
       "      <td>10580.0</td>\n",
       "      <td>Albany-Schenectady-Troy, NY</td>\n",
       "      <td>36</td>\n",
       "      <td>New York</td>\n",
       "      <td>1</td>\n",
       "      <td>Albany</td>\n",
       "      <td>42.64225</td>\n",
       "      <td>-73.75464</td>\n",
       "    </tr>\n",
       "    <tr>\n",
       "      <th>171</th>\n",
       "      <td>01/01/2022</td>\n",
       "      <td>AQS</td>\n",
       "      <td>360010005</td>\n",
       "      <td>3</td>\n",
       "      <td>17.4</td>\n",
       "      <td>ug/m3 LC</td>\n",
       "      <td>62</td>\n",
       "      <td>ALBANY COUNTY HEALTH DEPT</td>\n",
       "      <td>1</td>\n",
       "      <td>100.0</td>\n",
       "      <td>88101</td>\n",
       "      <td>PM2.5 - Local Conditions</td>\n",
       "      <td>10580.0</td>\n",
       "      <td>Albany-Schenectady-Troy, NY</td>\n",
       "      <td>36</td>\n",
       "      <td>New York</td>\n",
       "      <td>1</td>\n",
       "      <td>Albany</td>\n",
       "      <td>42.64225</td>\n",
       "      <td>-73.75464</td>\n",
       "    </tr>\n",
       "    <tr>\n",
       "      <th>183</th>\n",
       "      <td>01/13/2022</td>\n",
       "      <td>AQS</td>\n",
       "      <td>360010005</td>\n",
       "      <td>3</td>\n",
       "      <td>23.1</td>\n",
       "      <td>ug/m3 LC</td>\n",
       "      <td>74</td>\n",
       "      <td>ALBANY COUNTY HEALTH DEPT</td>\n",
       "      <td>1</td>\n",
       "      <td>100.0</td>\n",
       "      <td>88101</td>\n",
       "      <td>PM2.5 - Local Conditions</td>\n",
       "      <td>10580.0</td>\n",
       "      <td>Albany-Schenectady-Troy, NY</td>\n",
       "      <td>36</td>\n",
       "      <td>New York</td>\n",
       "      <td>1</td>\n",
       "      <td>Albany</td>\n",
       "      <td>42.64225</td>\n",
       "      <td>-73.75464</td>\n",
       "    </tr>\n",
       "    <tr>\n",
       "      <th>198</th>\n",
       "      <td>01/28/2022</td>\n",
       "      <td>AQS</td>\n",
       "      <td>360010005</td>\n",
       "      <td>3</td>\n",
       "      <td>18.9</td>\n",
       "      <td>ug/m3 LC</td>\n",
       "      <td>65</td>\n",
       "      <td>ALBANY COUNTY HEALTH DEPT</td>\n",
       "      <td>1</td>\n",
       "      <td>100.0</td>\n",
       "      <td>88101</td>\n",
       "      <td>PM2.5 - Local Conditions</td>\n",
       "      <td>10580.0</td>\n",
       "      <td>Albany-Schenectady-Troy, NY</td>\n",
       "      <td>36</td>\n",
       "      <td>New York</td>\n",
       "      <td>1</td>\n",
       "      <td>Albany</td>\n",
       "      <td>42.64225</td>\n",
       "      <td>-73.75464</td>\n",
       "    </tr>\n",
       "    <tr>\n",
       "      <th>...</th>\n",
       "      <td>...</td>\n",
       "      <td>...</td>\n",
       "      <td>...</td>\n",
       "      <td>...</td>\n",
       "      <td>...</td>\n",
       "      <td>...</td>\n",
       "      <td>...</td>\n",
       "      <td>...</td>\n",
       "      <td>...</td>\n",
       "      <td>...</td>\n",
       "      <td>...</td>\n",
       "      <td>...</td>\n",
       "      <td>...</td>\n",
       "      <td>...</td>\n",
       "      <td>...</td>\n",
       "      <td>...</td>\n",
       "      <td>...</td>\n",
       "      <td>...</td>\n",
       "      <td>...</td>\n",
       "      <td>...</td>\n",
       "    </tr>\n",
       "    <tr>\n",
       "      <th>9908</th>\n",
       "      <td>02/02/2022</td>\n",
       "      <td>AQS</td>\n",
       "      <td>361010003</td>\n",
       "      <td>4</td>\n",
       "      <td>19.6</td>\n",
       "      <td>ug/m3 LC</td>\n",
       "      <td>67</td>\n",
       "      <td>PINNACLE STATE PARK</td>\n",
       "      <td>1</td>\n",
       "      <td>100.0</td>\n",
       "      <td>88101</td>\n",
       "      <td>PM2.5 - Local Conditions</td>\n",
       "      <td>18500.0</td>\n",
       "      <td>Corning, NY</td>\n",
       "      <td>36</td>\n",
       "      <td>New York</td>\n",
       "      <td>101</td>\n",
       "      <td>Steuben</td>\n",
       "      <td>42.09142</td>\n",
       "      <td>-77.20978</td>\n",
       "    </tr>\n",
       "    <tr>\n",
       "      <th>10556</th>\n",
       "      <td>07/21/2022</td>\n",
       "      <td>AQS</td>\n",
       "      <td>361030009</td>\n",
       "      <td>3</td>\n",
       "      <td>18.7</td>\n",
       "      <td>ug/m3 LC</td>\n",
       "      <td>65</td>\n",
       "      <td>HOLTSVILLE</td>\n",
       "      <td>1</td>\n",
       "      <td>100.0</td>\n",
       "      <td>88502</td>\n",
       "      <td>Acceptable PM2.5 AQI &amp; Speciation Mass</td>\n",
       "      <td>35620.0</td>\n",
       "      <td>New York-Newark-Jersey City, NY-NJ-PA</td>\n",
       "      <td>36</td>\n",
       "      <td>New York</td>\n",
       "      <td>103</td>\n",
       "      <td>Suffolk</td>\n",
       "      <td>40.82799</td>\n",
       "      <td>-73.05754</td>\n",
       "    </tr>\n",
       "    <tr>\n",
       "      <th>10692</th>\n",
       "      <td>12/04/2022</td>\n",
       "      <td>AQS</td>\n",
       "      <td>361030009</td>\n",
       "      <td>3</td>\n",
       "      <td>19.3</td>\n",
       "      <td>ug/m3 LC</td>\n",
       "      <td>66</td>\n",
       "      <td>HOLTSVILLE</td>\n",
       "      <td>1</td>\n",
       "      <td>100.0</td>\n",
       "      <td>88502</td>\n",
       "      <td>Acceptable PM2.5 AQI &amp; Speciation Mass</td>\n",
       "      <td>35620.0</td>\n",
       "      <td>New York-Newark-Jersey City, NY-NJ-PA</td>\n",
       "      <td>36</td>\n",
       "      <td>New York</td>\n",
       "      <td>103</td>\n",
       "      <td>Suffolk</td>\n",
       "      <td>40.82799</td>\n",
       "      <td>-73.05754</td>\n",
       "    </tr>\n",
       "    <tr>\n",
       "      <th>10902</th>\n",
       "      <td>07/05/2022</td>\n",
       "      <td>AQS</td>\n",
       "      <td>361192004</td>\n",
       "      <td>3</td>\n",
       "      <td>24.9</td>\n",
       "      <td>ug/m3 LC</td>\n",
       "      <td>78</td>\n",
       "      <td>WHITE PLAINS</td>\n",
       "      <td>1</td>\n",
       "      <td>100.0</td>\n",
       "      <td>88502</td>\n",
       "      <td>Acceptable PM2.5 AQI &amp; Speciation Mass</td>\n",
       "      <td>35620.0</td>\n",
       "      <td>New York-Newark-Jersey City, NY-NJ-PA</td>\n",
       "      <td>36</td>\n",
       "      <td>New York</td>\n",
       "      <td>119</td>\n",
       "      <td>Westchester</td>\n",
       "      <td>41.05192</td>\n",
       "      <td>-73.76366</td>\n",
       "    </tr>\n",
       "    <tr>\n",
       "      <th>11077</th>\n",
       "      <td>12/30/2022</td>\n",
       "      <td>AQS</td>\n",
       "      <td>361192004</td>\n",
       "      <td>3</td>\n",
       "      <td>19.1</td>\n",
       "      <td>ug/m3 LC</td>\n",
       "      <td>66</td>\n",
       "      <td>WHITE PLAINS</td>\n",
       "      <td>1</td>\n",
       "      <td>100.0</td>\n",
       "      <td>88502</td>\n",
       "      <td>Acceptable PM2.5 AQI &amp; Speciation Mass</td>\n",
       "      <td>35620.0</td>\n",
       "      <td>New York-Newark-Jersey City, NY-NJ-PA</td>\n",
       "      <td>36</td>\n",
       "      <td>New York</td>\n",
       "      <td>119</td>\n",
       "      <td>Westchester</td>\n",
       "      <td>41.05192</td>\n",
       "      <td>-73.76366</td>\n",
       "    </tr>\n",
       "  </tbody>\n",
       "</table>\n",
       "<p>130 rows × 20 columns</p>\n",
       "</div>"
      ],
      "text/plain": [
       "             Date Source    Site ID  POC  Daily Mean PM2.5 Concentration  \\\n",
       "37     05/14/2022    AQS  360010005    1                            29.0   \n",
       "111    12/22/2022    AQS  360010005    1                            18.6   \n",
       "171    01/01/2022    AQS  360010005    3                            17.4   \n",
       "183    01/13/2022    AQS  360010005    3                            23.1   \n",
       "198    01/28/2022    AQS  360010005    3                            18.9   \n",
       "...           ...    ...        ...  ...                             ...   \n",
       "9908   02/02/2022    AQS  361010003    4                            19.6   \n",
       "10556  07/21/2022    AQS  361030009    3                            18.7   \n",
       "10692  12/04/2022    AQS  361030009    3                            19.3   \n",
       "10902  07/05/2022    AQS  361192004    3                            24.9   \n",
       "11077  12/30/2022    AQS  361192004    3                            19.1   \n",
       "\n",
       "          UNITS  DAILY_AQI_VALUE                  Site Name  DAILY_OBS_COUNT  \\\n",
       "37     ug/m3 LC               87  ALBANY COUNTY HEALTH DEPT                1   \n",
       "111    ug/m3 LC               65  ALBANY COUNTY HEALTH DEPT                1   \n",
       "171    ug/m3 LC               62  ALBANY COUNTY HEALTH DEPT                1   \n",
       "183    ug/m3 LC               74  ALBANY COUNTY HEALTH DEPT                1   \n",
       "198    ug/m3 LC               65  ALBANY COUNTY HEALTH DEPT                1   \n",
       "...         ...              ...                        ...              ...   \n",
       "9908   ug/m3 LC               67        PINNACLE STATE PARK                1   \n",
       "10556  ug/m3 LC               65                 HOLTSVILLE                1   \n",
       "10692  ug/m3 LC               66                 HOLTSVILLE                1   \n",
       "10902  ug/m3 LC               78               WHITE PLAINS                1   \n",
       "11077  ug/m3 LC               66               WHITE PLAINS                1   \n",
       "\n",
       "       PERCENT_COMPLETE  AQS_PARAMETER_CODE  \\\n",
       "37                100.0               88101   \n",
       "111               100.0               88101   \n",
       "171               100.0               88101   \n",
       "183               100.0               88101   \n",
       "198               100.0               88101   \n",
       "...                 ...                 ...   \n",
       "9908              100.0               88101   \n",
       "10556             100.0               88502   \n",
       "10692             100.0               88502   \n",
       "10902             100.0               88502   \n",
       "11077             100.0               88502   \n",
       "\n",
       "                           AQS_PARAMETER_DESC  CBSA_CODE  \\\n",
       "37                   PM2.5 - Local Conditions    10580.0   \n",
       "111                  PM2.5 - Local Conditions    10580.0   \n",
       "171                  PM2.5 - Local Conditions    10580.0   \n",
       "183                  PM2.5 - Local Conditions    10580.0   \n",
       "198                  PM2.5 - Local Conditions    10580.0   \n",
       "...                                       ...        ...   \n",
       "9908                 PM2.5 - Local Conditions    18500.0   \n",
       "10556  Acceptable PM2.5 AQI & Speciation Mass    35620.0   \n",
       "10692  Acceptable PM2.5 AQI & Speciation Mass    35620.0   \n",
       "10902  Acceptable PM2.5 AQI & Speciation Mass    35620.0   \n",
       "11077  Acceptable PM2.5 AQI & Speciation Mass    35620.0   \n",
       "\n",
       "                                   CBSA_NAME  STATE_CODE     STATE  \\\n",
       "37               Albany-Schenectady-Troy, NY          36  New York   \n",
       "111              Albany-Schenectady-Troy, NY          36  New York   \n",
       "171              Albany-Schenectady-Troy, NY          36  New York   \n",
       "183              Albany-Schenectady-Troy, NY          36  New York   \n",
       "198              Albany-Schenectady-Troy, NY          36  New York   \n",
       "...                                      ...         ...       ...   \n",
       "9908                             Corning, NY          36  New York   \n",
       "10556  New York-Newark-Jersey City, NY-NJ-PA          36  New York   \n",
       "10692  New York-Newark-Jersey City, NY-NJ-PA          36  New York   \n",
       "10902  New York-Newark-Jersey City, NY-NJ-PA          36  New York   \n",
       "11077  New York-Newark-Jersey City, NY-NJ-PA          36  New York   \n",
       "\n",
       "       COUNTY_CODE       COUNTY  SITE_LATITUDE  SITE_LONGITUDE  \n",
       "37               1       Albany       42.64225       -73.75464  \n",
       "111              1       Albany       42.64225       -73.75464  \n",
       "171              1       Albany       42.64225       -73.75464  \n",
       "183              1       Albany       42.64225       -73.75464  \n",
       "198              1       Albany       42.64225       -73.75464  \n",
       "...            ...          ...            ...             ...  \n",
       "9908           101      Steuben       42.09142       -77.20978  \n",
       "10556          103      Suffolk       40.82799       -73.05754  \n",
       "10692          103      Suffolk       40.82799       -73.05754  \n",
       "10902          119  Westchester       41.05192       -73.76366  \n",
       "11077          119  Westchester       41.05192       -73.76366  \n",
       "\n",
       "[130 rows x 20 columns]"
      ]
     },
     "execution_count": 17,
     "metadata": {},
     "output_type": "execute_result"
    }
   ],
   "source": [
    "df[(df['Daily Mean PM2.5 Concentration'] > upper_limit) | (df['Daily Mean PM2.5 Concentration'] < lower_limit)]"
   ]
  },
  {
   "cell_type": "code",
   "execution_count": 18,
   "id": "cb65fcc3",
   "metadata": {},
   "outputs": [
    {
     "data": {
      "text/html": [
       "<div>\n",
       "<style scoped>\n",
       "    .dataframe tbody tr th:only-of-type {\n",
       "        vertical-align: middle;\n",
       "    }\n",
       "\n",
       "    .dataframe tbody tr th {\n",
       "        vertical-align: top;\n",
       "    }\n",
       "\n",
       "    .dataframe thead th {\n",
       "        text-align: right;\n",
       "    }\n",
       "</style>\n",
       "<table border=\"1\" class=\"dataframe\">\n",
       "  <thead>\n",
       "    <tr style=\"text-align: right;\">\n",
       "      <th></th>\n",
       "      <th>Date</th>\n",
       "      <th>Source</th>\n",
       "      <th>Site ID</th>\n",
       "      <th>POC</th>\n",
       "      <th>Daily Mean PM2.5 Concentration</th>\n",
       "      <th>UNITS</th>\n",
       "      <th>DAILY_AQI_VALUE</th>\n",
       "      <th>Site Name</th>\n",
       "      <th>DAILY_OBS_COUNT</th>\n",
       "      <th>PERCENT_COMPLETE</th>\n",
       "      <th>AQS_PARAMETER_CODE</th>\n",
       "      <th>AQS_PARAMETER_DESC</th>\n",
       "      <th>CBSA_CODE</th>\n",
       "      <th>CBSA_NAME</th>\n",
       "      <th>STATE_CODE</th>\n",
       "      <th>STATE</th>\n",
       "      <th>COUNTY_CODE</th>\n",
       "      <th>COUNTY</th>\n",
       "      <th>SITE_LATITUDE</th>\n",
       "      <th>SITE_LONGITUDE</th>\n",
       "    </tr>\n",
       "  </thead>\n",
       "  <tbody>\n",
       "    <tr>\n",
       "      <th>0</th>\n",
       "      <td>01/02/2022</td>\n",
       "      <td>AQS</td>\n",
       "      <td>360010005</td>\n",
       "      <td>1</td>\n",
       "      <td>3.0</td>\n",
       "      <td>ug/m3 LC</td>\n",
       "      <td>13</td>\n",
       "      <td>ALBANY COUNTY HEALTH DEPT</td>\n",
       "      <td>1</td>\n",
       "      <td>100.0</td>\n",
       "      <td>88101</td>\n",
       "      <td>PM2.5 - Local Conditions</td>\n",
       "      <td>10580.0</td>\n",
       "      <td>Albany-Schenectady-Troy, NY</td>\n",
       "      <td>36</td>\n",
       "      <td>New York</td>\n",
       "      <td>1</td>\n",
       "      <td>Albany</td>\n",
       "      <td>42.64225</td>\n",
       "      <td>-73.75464</td>\n",
       "    </tr>\n",
       "    <tr>\n",
       "      <th>1</th>\n",
       "      <td>01/05/2022</td>\n",
       "      <td>AQS</td>\n",
       "      <td>360010005</td>\n",
       "      <td>1</td>\n",
       "      <td>7.9</td>\n",
       "      <td>ug/m3 LC</td>\n",
       "      <td>33</td>\n",
       "      <td>ALBANY COUNTY HEALTH DEPT</td>\n",
       "      <td>1</td>\n",
       "      <td>100.0</td>\n",
       "      <td>88101</td>\n",
       "      <td>PM2.5 - Local Conditions</td>\n",
       "      <td>10580.0</td>\n",
       "      <td>Albany-Schenectady-Troy, NY</td>\n",
       "      <td>36</td>\n",
       "      <td>New York</td>\n",
       "      <td>1</td>\n",
       "      <td>Albany</td>\n",
       "      <td>42.64225</td>\n",
       "      <td>-73.75464</td>\n",
       "    </tr>\n",
       "    <tr>\n",
       "      <th>2</th>\n",
       "      <td>01/08/2022</td>\n",
       "      <td>AQS</td>\n",
       "      <td>360010005</td>\n",
       "      <td>1</td>\n",
       "      <td>3.9</td>\n",
       "      <td>ug/m3 LC</td>\n",
       "      <td>16</td>\n",
       "      <td>ALBANY COUNTY HEALTH DEPT</td>\n",
       "      <td>1</td>\n",
       "      <td>100.0</td>\n",
       "      <td>88101</td>\n",
       "      <td>PM2.5 - Local Conditions</td>\n",
       "      <td>10580.0</td>\n",
       "      <td>Albany-Schenectady-Troy, NY</td>\n",
       "      <td>36</td>\n",
       "      <td>New York</td>\n",
       "      <td>1</td>\n",
       "      <td>Albany</td>\n",
       "      <td>42.64225</td>\n",
       "      <td>-73.75464</td>\n",
       "    </tr>\n",
       "    <tr>\n",
       "      <th>3</th>\n",
       "      <td>01/11/2022</td>\n",
       "      <td>AQS</td>\n",
       "      <td>360010005</td>\n",
       "      <td>1</td>\n",
       "      <td>6.1</td>\n",
       "      <td>ug/m3 LC</td>\n",
       "      <td>25</td>\n",
       "      <td>ALBANY COUNTY HEALTH DEPT</td>\n",
       "      <td>1</td>\n",
       "      <td>100.0</td>\n",
       "      <td>88101</td>\n",
       "      <td>PM2.5 - Local Conditions</td>\n",
       "      <td>10580.0</td>\n",
       "      <td>Albany-Schenectady-Troy, NY</td>\n",
       "      <td>36</td>\n",
       "      <td>New York</td>\n",
       "      <td>1</td>\n",
       "      <td>Albany</td>\n",
       "      <td>42.64225</td>\n",
       "      <td>-73.75464</td>\n",
       "    </tr>\n",
       "    <tr>\n",
       "      <th>4</th>\n",
       "      <td>01/14/2022</td>\n",
       "      <td>AQS</td>\n",
       "      <td>360010005</td>\n",
       "      <td>1</td>\n",
       "      <td>12.7</td>\n",
       "      <td>ug/m3 LC</td>\n",
       "      <td>52</td>\n",
       "      <td>ALBANY COUNTY HEALTH DEPT</td>\n",
       "      <td>1</td>\n",
       "      <td>100.0</td>\n",
       "      <td>88101</td>\n",
       "      <td>PM2.5 - Local Conditions</td>\n",
       "      <td>10580.0</td>\n",
       "      <td>Albany-Schenectady-Troy, NY</td>\n",
       "      <td>36</td>\n",
       "      <td>New York</td>\n",
       "      <td>1</td>\n",
       "      <td>Albany</td>\n",
       "      <td>42.64225</td>\n",
       "      <td>-73.75464</td>\n",
       "    </tr>\n",
       "    <tr>\n",
       "      <th>...</th>\n",
       "      <td>...</td>\n",
       "      <td>...</td>\n",
       "      <td>...</td>\n",
       "      <td>...</td>\n",
       "      <td>...</td>\n",
       "      <td>...</td>\n",
       "      <td>...</td>\n",
       "      <td>...</td>\n",
       "      <td>...</td>\n",
       "      <td>...</td>\n",
       "      <td>...</td>\n",
       "      <td>...</td>\n",
       "      <td>...</td>\n",
       "      <td>...</td>\n",
       "      <td>...</td>\n",
       "      <td>...</td>\n",
       "      <td>...</td>\n",
       "      <td>...</td>\n",
       "      <td>...</td>\n",
       "      <td>...</td>\n",
       "    </tr>\n",
       "    <tr>\n",
       "      <th>11073</th>\n",
       "      <td>12/26/2022</td>\n",
       "      <td>AQS</td>\n",
       "      <td>361192004</td>\n",
       "      <td>3</td>\n",
       "      <td>8.4</td>\n",
       "      <td>ug/m3 LC</td>\n",
       "      <td>35</td>\n",
       "      <td>WHITE PLAINS</td>\n",
       "      <td>1</td>\n",
       "      <td>100.0</td>\n",
       "      <td>88502</td>\n",
       "      <td>Acceptable PM2.5 AQI &amp; Speciation Mass</td>\n",
       "      <td>35620.0</td>\n",
       "      <td>New York-Newark-Jersey City, NY-NJ-PA</td>\n",
       "      <td>36</td>\n",
       "      <td>New York</td>\n",
       "      <td>119</td>\n",
       "      <td>Westchester</td>\n",
       "      <td>41.05192</td>\n",
       "      <td>-73.76366</td>\n",
       "    </tr>\n",
       "    <tr>\n",
       "      <th>11074</th>\n",
       "      <td>12/27/2022</td>\n",
       "      <td>AQS</td>\n",
       "      <td>361192004</td>\n",
       "      <td>3</td>\n",
       "      <td>9.3</td>\n",
       "      <td>ug/m3 LC</td>\n",
       "      <td>39</td>\n",
       "      <td>WHITE PLAINS</td>\n",
       "      <td>1</td>\n",
       "      <td>100.0</td>\n",
       "      <td>88502</td>\n",
       "      <td>Acceptable PM2.5 AQI &amp; Speciation Mass</td>\n",
       "      <td>35620.0</td>\n",
       "      <td>New York-Newark-Jersey City, NY-NJ-PA</td>\n",
       "      <td>36</td>\n",
       "      <td>New York</td>\n",
       "      <td>119</td>\n",
       "      <td>Westchester</td>\n",
       "      <td>41.05192</td>\n",
       "      <td>-73.76366</td>\n",
       "    </tr>\n",
       "    <tr>\n",
       "      <th>11075</th>\n",
       "      <td>12/28/2022</td>\n",
       "      <td>AQS</td>\n",
       "      <td>361192004</td>\n",
       "      <td>3</td>\n",
       "      <td>12.9</td>\n",
       "      <td>ug/m3 LC</td>\n",
       "      <td>53</td>\n",
       "      <td>WHITE PLAINS</td>\n",
       "      <td>1</td>\n",
       "      <td>100.0</td>\n",
       "      <td>88502</td>\n",
       "      <td>Acceptable PM2.5 AQI &amp; Speciation Mass</td>\n",
       "      <td>35620.0</td>\n",
       "      <td>New York-Newark-Jersey City, NY-NJ-PA</td>\n",
       "      <td>36</td>\n",
       "      <td>New York</td>\n",
       "      <td>119</td>\n",
       "      <td>Westchester</td>\n",
       "      <td>41.05192</td>\n",
       "      <td>-73.76366</td>\n",
       "    </tr>\n",
       "    <tr>\n",
       "      <th>11076</th>\n",
       "      <td>12/29/2022</td>\n",
       "      <td>AQS</td>\n",
       "      <td>361192004</td>\n",
       "      <td>3</td>\n",
       "      <td>15.5</td>\n",
       "      <td>ug/m3 LC</td>\n",
       "      <td>58</td>\n",
       "      <td>WHITE PLAINS</td>\n",
       "      <td>1</td>\n",
       "      <td>100.0</td>\n",
       "      <td>88502</td>\n",
       "      <td>Acceptable PM2.5 AQI &amp; Speciation Mass</td>\n",
       "      <td>35620.0</td>\n",
       "      <td>New York-Newark-Jersey City, NY-NJ-PA</td>\n",
       "      <td>36</td>\n",
       "      <td>New York</td>\n",
       "      <td>119</td>\n",
       "      <td>Westchester</td>\n",
       "      <td>41.05192</td>\n",
       "      <td>-73.76366</td>\n",
       "    </tr>\n",
       "    <tr>\n",
       "      <th>11078</th>\n",
       "      <td>12/31/2022</td>\n",
       "      <td>AQS</td>\n",
       "      <td>361192004</td>\n",
       "      <td>3</td>\n",
       "      <td>13.3</td>\n",
       "      <td>ug/m3 LC</td>\n",
       "      <td>54</td>\n",
       "      <td>WHITE PLAINS</td>\n",
       "      <td>1</td>\n",
       "      <td>100.0</td>\n",
       "      <td>88502</td>\n",
       "      <td>Acceptable PM2.5 AQI &amp; Speciation Mass</td>\n",
       "      <td>35620.0</td>\n",
       "      <td>New York-Newark-Jersey City, NY-NJ-PA</td>\n",
       "      <td>36</td>\n",
       "      <td>New York</td>\n",
       "      <td>119</td>\n",
       "      <td>Westchester</td>\n",
       "      <td>41.05192</td>\n",
       "      <td>-73.76366</td>\n",
       "    </tr>\n",
       "  </tbody>\n",
       "</table>\n",
       "<p>10545 rows × 20 columns</p>\n",
       "</div>"
      ],
      "text/plain": [
       "             Date Source    Site ID  POC  Daily Mean PM2.5 Concentration  \\\n",
       "0      01/02/2022    AQS  360010005    1                             3.0   \n",
       "1      01/05/2022    AQS  360010005    1                             7.9   \n",
       "2      01/08/2022    AQS  360010005    1                             3.9   \n",
       "3      01/11/2022    AQS  360010005    1                             6.1   \n",
       "4      01/14/2022    AQS  360010005    1                            12.7   \n",
       "...           ...    ...        ...  ...                             ...   \n",
       "11073  12/26/2022    AQS  361192004    3                             8.4   \n",
       "11074  12/27/2022    AQS  361192004    3                             9.3   \n",
       "11075  12/28/2022    AQS  361192004    3                            12.9   \n",
       "11076  12/29/2022    AQS  361192004    3                            15.5   \n",
       "11078  12/31/2022    AQS  361192004    3                            13.3   \n",
       "\n",
       "          UNITS  DAILY_AQI_VALUE                  Site Name  DAILY_OBS_COUNT  \\\n",
       "0      ug/m3 LC               13  ALBANY COUNTY HEALTH DEPT                1   \n",
       "1      ug/m3 LC               33  ALBANY COUNTY HEALTH DEPT                1   \n",
       "2      ug/m3 LC               16  ALBANY COUNTY HEALTH DEPT                1   \n",
       "3      ug/m3 LC               25  ALBANY COUNTY HEALTH DEPT                1   \n",
       "4      ug/m3 LC               52  ALBANY COUNTY HEALTH DEPT                1   \n",
       "...         ...              ...                        ...              ...   \n",
       "11073  ug/m3 LC               35               WHITE PLAINS                1   \n",
       "11074  ug/m3 LC               39               WHITE PLAINS                1   \n",
       "11075  ug/m3 LC               53               WHITE PLAINS                1   \n",
       "11076  ug/m3 LC               58               WHITE PLAINS                1   \n",
       "11078  ug/m3 LC               54               WHITE PLAINS                1   \n",
       "\n",
       "       PERCENT_COMPLETE  AQS_PARAMETER_CODE  \\\n",
       "0                 100.0               88101   \n",
       "1                 100.0               88101   \n",
       "2                 100.0               88101   \n",
       "3                 100.0               88101   \n",
       "4                 100.0               88101   \n",
       "...                 ...                 ...   \n",
       "11073             100.0               88502   \n",
       "11074             100.0               88502   \n",
       "11075             100.0               88502   \n",
       "11076             100.0               88502   \n",
       "11078             100.0               88502   \n",
       "\n",
       "                           AQS_PARAMETER_DESC  CBSA_CODE  \\\n",
       "0                    PM2.5 - Local Conditions    10580.0   \n",
       "1                    PM2.5 - Local Conditions    10580.0   \n",
       "2                    PM2.5 - Local Conditions    10580.0   \n",
       "3                    PM2.5 - Local Conditions    10580.0   \n",
       "4                    PM2.5 - Local Conditions    10580.0   \n",
       "...                                       ...        ...   \n",
       "11073  Acceptable PM2.5 AQI & Speciation Mass    35620.0   \n",
       "11074  Acceptable PM2.5 AQI & Speciation Mass    35620.0   \n",
       "11075  Acceptable PM2.5 AQI & Speciation Mass    35620.0   \n",
       "11076  Acceptable PM2.5 AQI & Speciation Mass    35620.0   \n",
       "11078  Acceptable PM2.5 AQI & Speciation Mass    35620.0   \n",
       "\n",
       "                                   CBSA_NAME  STATE_CODE     STATE  \\\n",
       "0                Albany-Schenectady-Troy, NY          36  New York   \n",
       "1                Albany-Schenectady-Troy, NY          36  New York   \n",
       "2                Albany-Schenectady-Troy, NY          36  New York   \n",
       "3                Albany-Schenectady-Troy, NY          36  New York   \n",
       "4                Albany-Schenectady-Troy, NY          36  New York   \n",
       "...                                      ...         ...       ...   \n",
       "11073  New York-Newark-Jersey City, NY-NJ-PA          36  New York   \n",
       "11074  New York-Newark-Jersey City, NY-NJ-PA          36  New York   \n",
       "11075  New York-Newark-Jersey City, NY-NJ-PA          36  New York   \n",
       "11076  New York-Newark-Jersey City, NY-NJ-PA          36  New York   \n",
       "11078  New York-Newark-Jersey City, NY-NJ-PA          36  New York   \n",
       "\n",
       "       COUNTY_CODE       COUNTY  SITE_LATITUDE  SITE_LONGITUDE  \n",
       "0                1       Albany       42.64225       -73.75464  \n",
       "1                1       Albany       42.64225       -73.75464  \n",
       "2                1       Albany       42.64225       -73.75464  \n",
       "3                1       Albany       42.64225       -73.75464  \n",
       "4                1       Albany       42.64225       -73.75464  \n",
       "...            ...          ...            ...             ...  \n",
       "11073          119  Westchester       41.05192       -73.76366  \n",
       "11074          119  Westchester       41.05192       -73.76366  \n",
       "11075          119  Westchester       41.05192       -73.76366  \n",
       "11076          119  Westchester       41.05192       -73.76366  \n",
       "11078          119  Westchester       41.05192       -73.76366  \n",
       "\n",
       "[10545 rows x 20 columns]"
      ]
     },
     "execution_count": 18,
     "metadata": {},
     "output_type": "execute_result"
    }
   ],
   "source": [
    "df[(df['Daily Mean PM2.5 Concentration'] < upper_limit) & (df['Daily Mean PM2.5 Concentration'] > lower_limit)]"
   ]
  },
  {
   "cell_type": "code",
   "execution_count": 19,
   "id": "f75c6b5b",
   "metadata": {},
   "outputs": [
    {
     "data": {
      "text/plain": [
       "(10545, 20)"
      ]
     },
     "execution_count": 19,
     "metadata": {},
     "output_type": "execute_result"
    }
   ],
   "source": [
    "df_no_outlier_std_dev = df[(df['Daily Mean PM2.5 Concentration'] < upper_limit) & (df['Daily Mean PM2.5 Concentration'] > lower_limit)]\n",
    "df_no_outlier_std_dev.shape"
   ]
  },
  {
   "cell_type": "code",
   "execution_count": 20,
   "id": "741e7991",
   "metadata": {
    "scrolled": true
   },
   "outputs": [
    {
     "data": {
      "text/plain": [
       "130"
      ]
     },
     "execution_count": 20,
     "metadata": {},
     "output_type": "execute_result"
    }
   ],
   "source": [
    "df.shape[0] - df_no_outlier_std_dev.shape[0] "
   ]
  },
  {
   "cell_type": "code",
   "execution_count": 21,
   "id": "eb5de6e6",
   "metadata": {},
   "outputs": [
    {
     "data": {
      "text/html": [
       "<div>\n",
       "<style scoped>\n",
       "    .dataframe tbody tr th:only-of-type {\n",
       "        vertical-align: middle;\n",
       "    }\n",
       "\n",
       "    .dataframe tbody tr th {\n",
       "        vertical-align: top;\n",
       "    }\n",
       "\n",
       "    .dataframe thead th {\n",
       "        text-align: right;\n",
       "    }\n",
       "</style>\n",
       "<table border=\"1\" class=\"dataframe\">\n",
       "  <thead>\n",
       "    <tr style=\"text-align: right;\">\n",
       "      <th></th>\n",
       "      <th>Date</th>\n",
       "      <th>Source</th>\n",
       "      <th>Site ID</th>\n",
       "      <th>POC</th>\n",
       "      <th>Daily Mean PM2.5 Concentration</th>\n",
       "      <th>UNITS</th>\n",
       "      <th>DAILY_AQI_VALUE</th>\n",
       "      <th>Site Name</th>\n",
       "      <th>DAILY_OBS_COUNT</th>\n",
       "      <th>PERCENT_COMPLETE</th>\n",
       "      <th>AQS_PARAMETER_CODE</th>\n",
       "      <th>AQS_PARAMETER_DESC</th>\n",
       "      <th>CBSA_CODE</th>\n",
       "      <th>CBSA_NAME</th>\n",
       "      <th>STATE_CODE</th>\n",
       "      <th>STATE</th>\n",
       "      <th>COUNTY_CODE</th>\n",
       "      <th>COUNTY</th>\n",
       "      <th>SITE_LATITUDE</th>\n",
       "      <th>SITE_LONGITUDE</th>\n",
       "    </tr>\n",
       "  </thead>\n",
       "  <tbody>\n",
       "    <tr>\n",
       "      <th>0</th>\n",
       "      <td>01/02/2022</td>\n",
       "      <td>AQS</td>\n",
       "      <td>360010005</td>\n",
       "      <td>1</td>\n",
       "      <td>3.0</td>\n",
       "      <td>ug/m3 LC</td>\n",
       "      <td>13</td>\n",
       "      <td>ALBANY COUNTY HEALTH DEPT</td>\n",
       "      <td>1</td>\n",
       "      <td>100.0</td>\n",
       "      <td>88101</td>\n",
       "      <td>PM2.5 - Local Conditions</td>\n",
       "      <td>10580.0</td>\n",
       "      <td>Albany-Schenectady-Troy, NY</td>\n",
       "      <td>36</td>\n",
       "      <td>New York</td>\n",
       "      <td>1</td>\n",
       "      <td>Albany</td>\n",
       "      <td>42.64225</td>\n",
       "      <td>-73.75464</td>\n",
       "    </tr>\n",
       "    <tr>\n",
       "      <th>1</th>\n",
       "      <td>01/05/2022</td>\n",
       "      <td>AQS</td>\n",
       "      <td>360010005</td>\n",
       "      <td>1</td>\n",
       "      <td>7.9</td>\n",
       "      <td>ug/m3 LC</td>\n",
       "      <td>33</td>\n",
       "      <td>ALBANY COUNTY HEALTH DEPT</td>\n",
       "      <td>1</td>\n",
       "      <td>100.0</td>\n",
       "      <td>88101</td>\n",
       "      <td>PM2.5 - Local Conditions</td>\n",
       "      <td>10580.0</td>\n",
       "      <td>Albany-Schenectady-Troy, NY</td>\n",
       "      <td>36</td>\n",
       "      <td>New York</td>\n",
       "      <td>1</td>\n",
       "      <td>Albany</td>\n",
       "      <td>42.64225</td>\n",
       "      <td>-73.75464</td>\n",
       "    </tr>\n",
       "    <tr>\n",
       "      <th>2</th>\n",
       "      <td>01/08/2022</td>\n",
       "      <td>AQS</td>\n",
       "      <td>360010005</td>\n",
       "      <td>1</td>\n",
       "      <td>3.9</td>\n",
       "      <td>ug/m3 LC</td>\n",
       "      <td>16</td>\n",
       "      <td>ALBANY COUNTY HEALTH DEPT</td>\n",
       "      <td>1</td>\n",
       "      <td>100.0</td>\n",
       "      <td>88101</td>\n",
       "      <td>PM2.5 - Local Conditions</td>\n",
       "      <td>10580.0</td>\n",
       "      <td>Albany-Schenectady-Troy, NY</td>\n",
       "      <td>36</td>\n",
       "      <td>New York</td>\n",
       "      <td>1</td>\n",
       "      <td>Albany</td>\n",
       "      <td>42.64225</td>\n",
       "      <td>-73.75464</td>\n",
       "    </tr>\n",
       "    <tr>\n",
       "      <th>3</th>\n",
       "      <td>01/11/2022</td>\n",
       "      <td>AQS</td>\n",
       "      <td>360010005</td>\n",
       "      <td>1</td>\n",
       "      <td>6.1</td>\n",
       "      <td>ug/m3 LC</td>\n",
       "      <td>25</td>\n",
       "      <td>ALBANY COUNTY HEALTH DEPT</td>\n",
       "      <td>1</td>\n",
       "      <td>100.0</td>\n",
       "      <td>88101</td>\n",
       "      <td>PM2.5 - Local Conditions</td>\n",
       "      <td>10580.0</td>\n",
       "      <td>Albany-Schenectady-Troy, NY</td>\n",
       "      <td>36</td>\n",
       "      <td>New York</td>\n",
       "      <td>1</td>\n",
       "      <td>Albany</td>\n",
       "      <td>42.64225</td>\n",
       "      <td>-73.75464</td>\n",
       "    </tr>\n",
       "    <tr>\n",
       "      <th>4</th>\n",
       "      <td>01/14/2022</td>\n",
       "      <td>AQS</td>\n",
       "      <td>360010005</td>\n",
       "      <td>1</td>\n",
       "      <td>12.7</td>\n",
       "      <td>ug/m3 LC</td>\n",
       "      <td>52</td>\n",
       "      <td>ALBANY COUNTY HEALTH DEPT</td>\n",
       "      <td>1</td>\n",
       "      <td>100.0</td>\n",
       "      <td>88101</td>\n",
       "      <td>PM2.5 - Local Conditions</td>\n",
       "      <td>10580.0</td>\n",
       "      <td>Albany-Schenectady-Troy, NY</td>\n",
       "      <td>36</td>\n",
       "      <td>New York</td>\n",
       "      <td>1</td>\n",
       "      <td>Albany</td>\n",
       "      <td>42.64225</td>\n",
       "      <td>-73.75464</td>\n",
       "    </tr>\n",
       "    <tr>\n",
       "      <th>...</th>\n",
       "      <td>...</td>\n",
       "      <td>...</td>\n",
       "      <td>...</td>\n",
       "      <td>...</td>\n",
       "      <td>...</td>\n",
       "      <td>...</td>\n",
       "      <td>...</td>\n",
       "      <td>...</td>\n",
       "      <td>...</td>\n",
       "      <td>...</td>\n",
       "      <td>...</td>\n",
       "      <td>...</td>\n",
       "      <td>...</td>\n",
       "      <td>...</td>\n",
       "      <td>...</td>\n",
       "      <td>...</td>\n",
       "      <td>...</td>\n",
       "      <td>...</td>\n",
       "      <td>...</td>\n",
       "      <td>...</td>\n",
       "    </tr>\n",
       "    <tr>\n",
       "      <th>11073</th>\n",
       "      <td>12/26/2022</td>\n",
       "      <td>AQS</td>\n",
       "      <td>361192004</td>\n",
       "      <td>3</td>\n",
       "      <td>8.4</td>\n",
       "      <td>ug/m3 LC</td>\n",
       "      <td>35</td>\n",
       "      <td>WHITE PLAINS</td>\n",
       "      <td>1</td>\n",
       "      <td>100.0</td>\n",
       "      <td>88502</td>\n",
       "      <td>Acceptable PM2.5 AQI &amp; Speciation Mass</td>\n",
       "      <td>35620.0</td>\n",
       "      <td>New York-Newark-Jersey City, NY-NJ-PA</td>\n",
       "      <td>36</td>\n",
       "      <td>New York</td>\n",
       "      <td>119</td>\n",
       "      <td>Westchester</td>\n",
       "      <td>41.05192</td>\n",
       "      <td>-73.76366</td>\n",
       "    </tr>\n",
       "    <tr>\n",
       "      <th>11074</th>\n",
       "      <td>12/27/2022</td>\n",
       "      <td>AQS</td>\n",
       "      <td>361192004</td>\n",
       "      <td>3</td>\n",
       "      <td>9.3</td>\n",
       "      <td>ug/m3 LC</td>\n",
       "      <td>39</td>\n",
       "      <td>WHITE PLAINS</td>\n",
       "      <td>1</td>\n",
       "      <td>100.0</td>\n",
       "      <td>88502</td>\n",
       "      <td>Acceptable PM2.5 AQI &amp; Speciation Mass</td>\n",
       "      <td>35620.0</td>\n",
       "      <td>New York-Newark-Jersey City, NY-NJ-PA</td>\n",
       "      <td>36</td>\n",
       "      <td>New York</td>\n",
       "      <td>119</td>\n",
       "      <td>Westchester</td>\n",
       "      <td>41.05192</td>\n",
       "      <td>-73.76366</td>\n",
       "    </tr>\n",
       "    <tr>\n",
       "      <th>11075</th>\n",
       "      <td>12/28/2022</td>\n",
       "      <td>AQS</td>\n",
       "      <td>361192004</td>\n",
       "      <td>3</td>\n",
       "      <td>12.9</td>\n",
       "      <td>ug/m3 LC</td>\n",
       "      <td>53</td>\n",
       "      <td>WHITE PLAINS</td>\n",
       "      <td>1</td>\n",
       "      <td>100.0</td>\n",
       "      <td>88502</td>\n",
       "      <td>Acceptable PM2.5 AQI &amp; Speciation Mass</td>\n",
       "      <td>35620.0</td>\n",
       "      <td>New York-Newark-Jersey City, NY-NJ-PA</td>\n",
       "      <td>36</td>\n",
       "      <td>New York</td>\n",
       "      <td>119</td>\n",
       "      <td>Westchester</td>\n",
       "      <td>41.05192</td>\n",
       "      <td>-73.76366</td>\n",
       "    </tr>\n",
       "    <tr>\n",
       "      <th>11076</th>\n",
       "      <td>12/29/2022</td>\n",
       "      <td>AQS</td>\n",
       "      <td>361192004</td>\n",
       "      <td>3</td>\n",
       "      <td>15.5</td>\n",
       "      <td>ug/m3 LC</td>\n",
       "      <td>58</td>\n",
       "      <td>WHITE PLAINS</td>\n",
       "      <td>1</td>\n",
       "      <td>100.0</td>\n",
       "      <td>88502</td>\n",
       "      <td>Acceptable PM2.5 AQI &amp; Speciation Mass</td>\n",
       "      <td>35620.0</td>\n",
       "      <td>New York-Newark-Jersey City, NY-NJ-PA</td>\n",
       "      <td>36</td>\n",
       "      <td>New York</td>\n",
       "      <td>119</td>\n",
       "      <td>Westchester</td>\n",
       "      <td>41.05192</td>\n",
       "      <td>-73.76366</td>\n",
       "    </tr>\n",
       "    <tr>\n",
       "      <th>11078</th>\n",
       "      <td>12/31/2022</td>\n",
       "      <td>AQS</td>\n",
       "      <td>361192004</td>\n",
       "      <td>3</td>\n",
       "      <td>13.3</td>\n",
       "      <td>ug/m3 LC</td>\n",
       "      <td>54</td>\n",
       "      <td>WHITE PLAINS</td>\n",
       "      <td>1</td>\n",
       "      <td>100.0</td>\n",
       "      <td>88502</td>\n",
       "      <td>Acceptable PM2.5 AQI &amp; Speciation Mass</td>\n",
       "      <td>35620.0</td>\n",
       "      <td>New York-Newark-Jersey City, NY-NJ-PA</td>\n",
       "      <td>36</td>\n",
       "      <td>New York</td>\n",
       "      <td>119</td>\n",
       "      <td>Westchester</td>\n",
       "      <td>41.05192</td>\n",
       "      <td>-73.76366</td>\n",
       "    </tr>\n",
       "  </tbody>\n",
       "</table>\n",
       "<p>10545 rows × 20 columns</p>\n",
       "</div>"
      ],
      "text/plain": [
       "             Date Source    Site ID  POC  Daily Mean PM2.5 Concentration  \\\n",
       "0      01/02/2022    AQS  360010005    1                             3.0   \n",
       "1      01/05/2022    AQS  360010005    1                             7.9   \n",
       "2      01/08/2022    AQS  360010005    1                             3.9   \n",
       "3      01/11/2022    AQS  360010005    1                             6.1   \n",
       "4      01/14/2022    AQS  360010005    1                            12.7   \n",
       "...           ...    ...        ...  ...                             ...   \n",
       "11073  12/26/2022    AQS  361192004    3                             8.4   \n",
       "11074  12/27/2022    AQS  361192004    3                             9.3   \n",
       "11075  12/28/2022    AQS  361192004    3                            12.9   \n",
       "11076  12/29/2022    AQS  361192004    3                            15.5   \n",
       "11078  12/31/2022    AQS  361192004    3                            13.3   \n",
       "\n",
       "          UNITS  DAILY_AQI_VALUE                  Site Name  DAILY_OBS_COUNT  \\\n",
       "0      ug/m3 LC               13  ALBANY COUNTY HEALTH DEPT                1   \n",
       "1      ug/m3 LC               33  ALBANY COUNTY HEALTH DEPT                1   \n",
       "2      ug/m3 LC               16  ALBANY COUNTY HEALTH DEPT                1   \n",
       "3      ug/m3 LC               25  ALBANY COUNTY HEALTH DEPT                1   \n",
       "4      ug/m3 LC               52  ALBANY COUNTY HEALTH DEPT                1   \n",
       "...         ...              ...                        ...              ...   \n",
       "11073  ug/m3 LC               35               WHITE PLAINS                1   \n",
       "11074  ug/m3 LC               39               WHITE PLAINS                1   \n",
       "11075  ug/m3 LC               53               WHITE PLAINS                1   \n",
       "11076  ug/m3 LC               58               WHITE PLAINS                1   \n",
       "11078  ug/m3 LC               54               WHITE PLAINS                1   \n",
       "\n",
       "       PERCENT_COMPLETE  AQS_PARAMETER_CODE  \\\n",
       "0                 100.0               88101   \n",
       "1                 100.0               88101   \n",
       "2                 100.0               88101   \n",
       "3                 100.0               88101   \n",
       "4                 100.0               88101   \n",
       "...                 ...                 ...   \n",
       "11073             100.0               88502   \n",
       "11074             100.0               88502   \n",
       "11075             100.0               88502   \n",
       "11076             100.0               88502   \n",
       "11078             100.0               88502   \n",
       "\n",
       "                           AQS_PARAMETER_DESC  CBSA_CODE  \\\n",
       "0                    PM2.5 - Local Conditions    10580.0   \n",
       "1                    PM2.5 - Local Conditions    10580.0   \n",
       "2                    PM2.5 - Local Conditions    10580.0   \n",
       "3                    PM2.5 - Local Conditions    10580.0   \n",
       "4                    PM2.5 - Local Conditions    10580.0   \n",
       "...                                       ...        ...   \n",
       "11073  Acceptable PM2.5 AQI & Speciation Mass    35620.0   \n",
       "11074  Acceptable PM2.5 AQI & Speciation Mass    35620.0   \n",
       "11075  Acceptable PM2.5 AQI & Speciation Mass    35620.0   \n",
       "11076  Acceptable PM2.5 AQI & Speciation Mass    35620.0   \n",
       "11078  Acceptable PM2.5 AQI & Speciation Mass    35620.0   \n",
       "\n",
       "                                   CBSA_NAME  STATE_CODE     STATE  \\\n",
       "0                Albany-Schenectady-Troy, NY          36  New York   \n",
       "1                Albany-Schenectady-Troy, NY          36  New York   \n",
       "2                Albany-Schenectady-Troy, NY          36  New York   \n",
       "3                Albany-Schenectady-Troy, NY          36  New York   \n",
       "4                Albany-Schenectady-Troy, NY          36  New York   \n",
       "...                                      ...         ...       ...   \n",
       "11073  New York-Newark-Jersey City, NY-NJ-PA          36  New York   \n",
       "11074  New York-Newark-Jersey City, NY-NJ-PA          36  New York   \n",
       "11075  New York-Newark-Jersey City, NY-NJ-PA          36  New York   \n",
       "11076  New York-Newark-Jersey City, NY-NJ-PA          36  New York   \n",
       "11078  New York-Newark-Jersey City, NY-NJ-PA          36  New York   \n",
       "\n",
       "       COUNTY_CODE       COUNTY  SITE_LATITUDE  SITE_LONGITUDE  \n",
       "0                1       Albany       42.64225       -73.75464  \n",
       "1                1       Albany       42.64225       -73.75464  \n",
       "2                1       Albany       42.64225       -73.75464  \n",
       "3                1       Albany       42.64225       -73.75464  \n",
       "4                1       Albany       42.64225       -73.75464  \n",
       "...            ...          ...            ...             ...  \n",
       "11073          119  Westchester       41.05192       -73.76366  \n",
       "11074          119  Westchester       41.05192       -73.76366  \n",
       "11075          119  Westchester       41.05192       -73.76366  \n",
       "11076          119  Westchester       41.05192       -73.76366  \n",
       "11078          119  Westchester       41.05192       -73.76366  \n",
       "\n",
       "[10545 rows x 20 columns]"
      ]
     },
     "execution_count": 21,
     "metadata": {},
     "output_type": "execute_result"
    }
   ],
   "source": [
    "df = df_no_outlier_std_dev\n",
    "df"
   ]
  },
  {
   "cell_type": "code",
   "execution_count": 22,
   "id": "62d857b3",
   "metadata": {},
   "outputs": [
    {
     "data": {
      "image/png": "[encoded data removed]",
      "text/plain": [
       "<Figure size 1440x720 with 1 Axes>"
      ]
     },
     "metadata": {},
     "output_type": "display_data"
    }
   ],
   "source": [
    "plt.figure(figsize = (20, 10))\n",
    "sns.boxplot(data = df['Daily Mean PM2.5 Concentration'])\n",
    "sns.set_style(\"darkgrid\")"
   ]
  },
  {
   "cell_type": "markdown",
   "id": "920922bb",
   "metadata": {},
   "source": [
    "# Descriptive Statistics"
   ]
  },
  {
   "cell_type": "markdown",
   "id": "7117b4be",
   "metadata": {},
   "source": [
    "## Frequency"
   ]
  },
  {
   "cell_type": "code",
   "execution_count": 23,
   "id": "2feef3cf",
   "metadata": {},
   "outputs": [
    {
     "data": {
      "text/plain": [
       "(array([  93,  772, 2058, 2553, 2199, 1395,  750,  403,  226,   96],\n",
       "       dtype=int64),\n",
       " array([-1.4 ,  0.45,  2.3 ,  4.15,  6.  ,  7.85,  9.7 , 11.55, 13.4 ,\n",
       "        15.25, 17.1 ]))"
      ]
     },
     "execution_count": 23,
     "metadata": {},
     "output_type": "execute_result"
    }
   ],
   "source": [
    "np.histogram(df['Daily Mean PM2.5 Concentration'], density=False)"
   ]
  },
  {
   "cell_type": "markdown",
   "id": "a9b0dd1a",
   "metadata": {},
   "source": [
    "## Central Tendency"
   ]
  },
  {
   "cell_type": "markdown",
   "id": "c6d53a00",
   "metadata": {},
   "source": [
    "## Mean"
   ]
  },
  {
   "cell_type": "code",
   "execution_count": 24,
   "id": "78f41af4",
   "metadata": {},
   "outputs": [
    {
     "data": {
      "text/plain": [
       "Site ID                           3.605820e+08\n",
       "POC                               2.605216e+00\n",
       "Daily Mean PM2.5 Concentration    6.250896e+00\n",
       "DAILY_AQI_VALUE                   2.592878e+01\n",
       "DAILY_OBS_COUNT                   1.000000e+00\n",
       "PERCENT_COMPLETE                  1.000000e+02\n",
       "AQS_PARAMETER_CODE                8.834160e+04\n",
       "CBSA_CODE                         3.190092e+04\n",
       "STATE_CODE                        3.600000e+01\n",
       "COUNTY_CODE                       5.817402e+01\n",
       "SITE_LATITUDE                     4.163832e+01\n",
       "SITE_LONGITUDE                   -7.511621e+01\n",
       "dtype: float64"
      ]
     },
     "execution_count": 24,
     "metadata": {},
     "output_type": "execute_result"
    }
   ],
   "source": [
    "df.mean()"
   ]
  },
  {
   "cell_type": "code",
   "execution_count": 25,
   "id": "e20c0bc8",
   "metadata": {},
   "outputs": [
    {
     "data": {
      "text/plain": [
       "6.250896159317207"
      ]
     },
     "execution_count": 25,
     "metadata": {},
     "output_type": "execute_result"
    }
   ],
   "source": [
    "df['Daily Mean PM2.5 Concentration'].mean()"
   ]
  },
  {
   "cell_type": "code",
   "execution_count": 26,
   "id": "402f6612",
   "metadata": {},
   "outputs": [
    {
     "data": {
      "image/png": "[encoded data removed]",
      "text/plain": [
       "<Figure size 1080x576 with 1 Axes>"
      ]
     },
     "metadata": {},
     "output_type": "display_data"
    }
   ],
   "source": [
    "sns.distplot(df['Daily Mean PM2.5 Concentration'], hist=True, kde=True, \n",
    "             bins=20, color = 'black', \n",
    "             hist_kws={'edgecolor':'black'},\n",
    "             kde_kws={'linewidth': 3})\n",
    "sns.set_style(\"darkgrid\")\n",
    "plt.axvline(df['Daily Mean PM2.5 Concentration'].mean(),lw=3,color= 'red',label=f'Mean: 6.349959382615762')\n",
    "plt.title('PM2.5 mean')\n",
    "plt.legend();"
   ]
  },
  {
   "cell_type": "markdown",
   "id": "084ca001",
   "metadata": {},
   "source": [
    "## Median "
   ]
  },
  {
   "cell_type": "code",
   "execution_count": 27,
   "id": "edd12a93",
   "metadata": {},
   "outputs": [
    {
     "data": {
      "text/plain": [
       "5.8"
      ]
     },
     "execution_count": 27,
     "metadata": {},
     "output_type": "execute_result"
    }
   ],
   "source": [
    "statistics.median(df['Daily Mean PM2.5 Concentration'])"
   ]
  },
  {
   "cell_type": "code",
   "execution_count": 28,
   "id": "2bf0d08f",
   "metadata": {},
   "outputs": [
    {
     "data": {
      "text/plain": [
       "<matplotlib.legend.Legend at 0x21729062b80>"
      ]
     },
     "execution_count": 28,
     "metadata": {},
     "output_type": "execute_result"
    },
    {
     "data": {
      "image/png": "[encoded data removed]",
      "text/plain": [
       "<Figure size 1080x576 with 1 Axes>"
      ]
     },
     "metadata": {},
     "output_type": "display_data"
    }
   ],
   "source": [
    "sns.distplot(df['Daily Mean PM2.5 Concentration'], hist=True, kde=True, \n",
    "             bins=20, color = 'black', \n",
    "             hist_kws={'edgecolor':'black'},\n",
    "             kde_kws={'linewidth': 3})\n",
    "sns.set_style(\"darkgrid\")\n",
    "plt.axvline(statistics.median(df['Daily Mean PM2.5 Concentration']),color= 'blue', label=f'Median: 5.7')\n",
    "plt.title('PM2.5 median')\n",
    "plt.legend()"
   ]
  },
  {
   "cell_type": "markdown",
   "id": "8cc5f3ca",
   "metadata": {},
   "source": [
    "## Mode"
   ]
  },
  {
   "cell_type": "code",
   "execution_count": 29,
   "id": "f3f6e0af",
   "metadata": {},
   "outputs": [
    {
     "data": {
      "text/plain": [
       "4.7"
      ]
     },
     "execution_count": 29,
     "metadata": {},
     "output_type": "execute_result"
    }
   ],
   "source": [
    "statistics.mode(df['Daily Mean PM2.5 Concentration'])"
   ]
  },
  {
   "cell_type": "code",
   "execution_count": 30,
   "id": "2618f38b",
   "metadata": {},
   "outputs": [
    {
     "data": {
      "text/plain": [
       "<matplotlib.legend.Legend at 0x217293fddf0>"
      ]
     },
     "execution_count": 30,
     "metadata": {},
     "output_type": "execute_result"
    },
    {
     "data": {
      "image/png": "[encoded data removed]",
      "text/plain": [
       "<Figure size 1080x576 with 1 Axes>"
      ]
     },
     "metadata": {},
     "output_type": "display_data"
    }
   ],
   "source": [
    "sns.distplot(df['Daily Mean PM2.5 Concentration'], hist=True, kde=True, \n",
    "             bins=20, color = 'black', \n",
    "             hist_kws={'edgecolor':'black'},\n",
    "             kde_kws={'linewidth': 3})\n",
    "sns.set_style(\"darkgrid\")\n",
    "plt.axvline(statistics.mode(df['Daily Mean PM2.5 Concentration']),color= 'green', \n",
    "            label=f'Mode: 4.7 ')\n",
    "plt.title('PM2.5 mode')\n",
    "plt.legend()"
   ]
  },
  {
   "cell_type": "code",
   "execution_count": 31,
   "id": "d911c5e6",
   "metadata": {},
   "outputs": [
    {
     "data": {
      "text/plain": [
       "<matplotlib.legend.Legend at 0x2172a8212e0>"
      ]
     },
     "execution_count": 31,
     "metadata": {},
     "output_type": "execute_result"
    },
    {
     "data": {
      "image/png": "[encoded data removed]",
      "text/plain": [
       "<Figure size 1080x576 with 1 Axes>"
      ]
     },
     "metadata": {},
     "output_type": "display_data"
    }
   ],
   "source": [
    "sns.distplot(df['Daily Mean PM2.5 Concentration'], hist=True, kde=True, \n",
    "             bins=20, color = 'black', \n",
    "             hist_kws={'edgecolor':'black'},\n",
    "             kde_kws={'linewidth': 3})\n",
    "sns.set_style(\"darkgrid\")\n",
    "plt.axvline(df['Daily Mean PM2.5 Concentration'].mean(),color= 'red', label=f'Mean: 6.349959382615762')\n",
    "plt.axvline(statistics.median(df['Daily Mean PM2.5 Concentration']),color= 'blue', label=f'Median: 5.7')\n",
    "plt.axvline(statistics.mode(df['Daily Mean PM2.5 Concentration']),color= 'green', label=f'Mode: 4.7')\n",
    "plt.title('PM2.5 comaprison mean,median,mode')\n",
    "plt.legend()"
   ]
  },
  {
   "cell_type": "markdown",
   "id": "96304a00",
   "metadata": {},
   "source": [
    "## Measure of Variability"
   ]
  },
  {
   "cell_type": "markdown",
   "id": "21b77dc6",
   "metadata": {},
   "source": [
    "## Range"
   ]
  },
  {
   "cell_type": "code",
   "execution_count": 32,
   "id": "91f34434",
   "metadata": {},
   "outputs": [],
   "source": [
    "numeric_data = df.select_dtypes(exclude='object')\n",
    "categorical_data = df.select_dtypes(include='object')"
   ]
  },
  {
   "cell_type": "code",
   "execution_count": 33,
   "id": "2115fbd2",
   "metadata": {},
   "outputs": [
    {
     "name": "stdout",
     "output_type": "stream",
     "text": [
      "<class 'pandas.core.frame.DataFrame'>\n",
      "Int64Index: 10545 entries, 0 to 11078\n",
      "Data columns (total 12 columns):\n",
      " #   Column                          Non-Null Count  Dtype  \n",
      "---  ------                          --------------  -----  \n",
      " 0   Site ID                         10545 non-null  int64  \n",
      " 1   POC                             10545 non-null  int64  \n",
      " 2   Daily Mean PM2.5 Concentration  10545 non-null  float64\n",
      " 3   DAILY_AQI_VALUE                 10545 non-null  int64  \n",
      " 4   DAILY_OBS_COUNT                 10545 non-null  int64  \n",
      " 5   PERCENT_COMPLETE                10545 non-null  float64\n",
      " 6   AQS_PARAMETER_CODE              10545 non-null  int64  \n",
      " 7   CBSA_CODE                       10545 non-null  float64\n",
      " 8   STATE_CODE                      10545 non-null  int64  \n",
      " 9   COUNTY_CODE                     10545 non-null  int64  \n",
      " 10  SITE_LATITUDE                   10545 non-null  float64\n",
      " 11  SITE_LONGITUDE                  10545 non-null  float64\n",
      "dtypes: float64(5), int64(7)\n",
      "memory usage: 1.3 MB\n"
     ]
    }
   ],
   "source": [
    "numeric_data.info()"
   ]
  },
  {
   "cell_type": "code",
   "execution_count": 34,
   "id": "c2decbb7",
   "metadata": {},
   "outputs": [
    {
     "name": "stdout",
     "output_type": "stream",
     "text": [
      "range of Site ID : 1181999\n",
      "range of POC : 3\n",
      "range of Daily Mean PM2.5 Concentration : 18\n",
      "range of DAILY_AQI_VALUE : 62\n",
      "range of DAILY_OBS_COUNT : 0\n",
      "range of PERCENT_COMPLETE : 0\n",
      "range of AQS_PARAMETER_CODE : 401\n",
      "range of CBSA_CODE : 35960\n",
      "range of STATE_CODE : 0\n",
      "range of COUNTY_CODE : 118\n",
      "range of SITE_LATITUDE : 2\n",
      "range of SITE_LONGITUDE : 6\n"
     ]
    }
   ],
   "source": [
    "for col in numeric_data.columns:\n",
    "    range = df[col].max() - df[col].min()\n",
    "    print('range of %s : %d'%(col,range))"
   ]
  },
  {
   "cell_type": "code",
   "execution_count": 35,
   "id": "8f475ed9",
   "metadata": {},
   "outputs": [
    {
     "data": {
      "text/plain": [
       "17.1"
      ]
     },
     "execution_count": 35,
     "metadata": {},
     "output_type": "execute_result"
    }
   ],
   "source": [
    "df['Daily Mean PM2.5 Concentration'].max()"
   ]
  },
  {
   "cell_type": "code",
   "execution_count": 36,
   "id": "7ef8083b",
   "metadata": {},
   "outputs": [
    {
     "data": {
      "text/plain": [
       "-1.4"
      ]
     },
     "execution_count": 36,
     "metadata": {},
     "output_type": "execute_result"
    }
   ],
   "source": [
    "df['Daily Mean PM2.5 Concentration'].min()"
   ]
  },
  {
   "cell_type": "code",
   "execution_count": 37,
   "id": "0ce54ac6",
   "metadata": {},
   "outputs": [
    {
     "data": {
      "text/plain": [
       "18.5"
      ]
     },
     "execution_count": 37,
     "metadata": {},
     "output_type": "execute_result"
    }
   ],
   "source": [
    "df['Daily Mean PM2.5 Concentration'].max() - df['Daily Mean PM2.5 Concentration'].min()"
   ]
  },
  {
   "cell_type": "code",
   "execution_count": 38,
   "id": "4b80dd72",
   "metadata": {},
   "outputs": [
    {
     "data": {
      "text/plain": [
       "0       -1.025146\n",
       "1        0.520033\n",
       "2       -0.741338\n",
       "3       -0.047584\n",
       "4        2.033678\n",
       "           ...   \n",
       "11073    0.677704\n",
       "11074    0.961513\n",
       "11075    2.096746\n",
       "11076    2.916637\n",
       "11078    2.222883\n",
       "Name: Daily Mean PM2.5 Concentration, Length: 10545, dtype: float64"
      ]
     },
     "execution_count": 38,
     "metadata": {},
     "output_type": "execute_result"
    }
   ],
   "source": [
    "stats.zscore(df['Daily Mean PM2.5 Concentration'])"
   ]
  },
  {
   "cell_type": "code",
   "execution_count": 39,
   "id": "9c7d74ed",
   "metadata": {},
   "outputs": [
    {
     "data": {
      "text/plain": [
       "count    10545.000000\n",
       "mean         6.250896\n",
       "std          3.171304\n",
       "min         -1.400000\n",
       "25%          3.900000\n",
       "50%          5.800000\n",
       "75%          8.100000\n",
       "max         17.100000\n",
       "Name: Daily Mean PM2.5 Concentration, dtype: float64"
      ]
     },
     "execution_count": 39,
     "metadata": {},
     "output_type": "execute_result"
    }
   ],
   "source": [
    "df['Daily Mean PM2.5 Concentration'].describe()"
   ]
  },
  {
   "cell_type": "code",
   "execution_count": 40,
   "id": "90e77c7d",
   "metadata": {},
   "outputs": [
    {
     "data": {
      "text/plain": [
       "4.199999999999999"
      ]
     },
     "execution_count": 40,
     "metadata": {},
     "output_type": "execute_result"
    }
   ],
   "source": [
    "df['Daily Mean PM2.5 Concentration'].quantile(0.75) - df['Daily Mean PM2.5 Concentration'].quantile(0.25)"
   ]
  },
  {
   "cell_type": "code",
   "execution_count": 41,
   "id": "80d6f070",
   "metadata": {},
   "outputs": [
    {
     "data": {
      "image/png": "[encoded data removed]",
      "text/plain": [
       "<Figure size 1080x576 with 1 Axes>"
      ]
     },
     "metadata": {},
     "output_type": "display_data"
    }
   ],
   "source": [
    "sns.boxplot(data = df['Daily Mean PM2.5 Concentration'])\n",
    "sns.set_style(\"darkgrid\")"
   ]
  },
  {
   "cell_type": "markdown",
   "id": "743ad1df",
   "metadata": {},
   "source": [
    "## Variance"
   ]
  },
  {
   "cell_type": "code",
   "execution_count": 42,
   "id": "4e8b5142",
   "metadata": {},
   "outputs": [
    {
     "data": {
      "text/plain": [
       "10.057167491587107"
      ]
     },
     "execution_count": 42,
     "metadata": {},
     "output_type": "execute_result"
    }
   ],
   "source": [
    "statistics.variance(df['Daily Mean PM2.5 Concentration'])"
   ]
  },
  {
   "cell_type": "markdown",
   "id": "137bbe16",
   "metadata": {},
   "source": [
    "### Standard Deviation "
   ]
  },
  {
   "cell_type": "code",
   "execution_count": 43,
   "id": "ff2651f2",
   "metadata": {},
   "outputs": [
    {
     "data": {
      "text/plain": [
       "3.171303752652369"
      ]
     },
     "execution_count": 43,
     "metadata": {},
     "output_type": "execute_result"
    }
   ],
   "source": [
    "df['Daily Mean PM2.5 Concentration'].std()"
   ]
  },
  {
   "cell_type": "code",
   "execution_count": 44,
   "id": "38b437e2",
   "metadata": {},
   "outputs": [
    {
     "data": {
      "text/plain": [
       "<matplotlib.legend.Legend at 0x2172938ae20>"
      ]
     },
     "execution_count": 44,
     "metadata": {},
     "output_type": "execute_result"
    },
    {
     "data": {
      "image/png": "[encoded data removed]",
      "text/plain": [
       "<Figure size 1080x576 with 1 Axes>"
      ]
     },
     "metadata": {},
     "output_type": "display_data"
    }
   ],
   "source": [
    "sns.histplot(df['Daily Mean PM2.5 Concentration'],color = 'grey')\n",
    "sns.set_style(\"darkgrid\")\n",
    "plt.axvline(df['Daily Mean PM2.5 Concentration'].mean(),color='red',label=f'Mean')\n",
    "plt.axvline(df['Daily Mean PM2.5 Concentration'].mean() + df['Daily Mean PM2.5 Concentration'].std(),color='cyan',\n",
    "            label=f'Standard Deviation')\n",
    "plt.axvline(df['Daily Mean PM2.5 Concentration'].mean() - df['Daily Mean PM2.5 Concentration'].std(),color='cyan')\n",
    "plt.axvline(df['Daily Mean PM2.5 Concentration'].mean() + 2*(df['Daily Mean PM2.5 Concentration'].std()),color='magenta',\n",
    "            label=f'2 Standard Deviation')\n",
    "plt.axvline(df['Daily Mean PM2.5 Concentration'].mean() - 2*(df['Daily Mean PM2.5 Concentration'].std()),color='magenta')\n",
    "plt.axvline(df['Daily Mean PM2.5 Concentration'].mean() + 3*(df['Daily Mean PM2.5 Concentration'].std()),color='yellow',\n",
    "            label=f'3 Standard Deviation')\n",
    "plt.axvline(df['Daily Mean PM2.5 Concentration'].mean() - 3*(df['Daily Mean PM2.5 Concentration'].std()),color='yellow')\n",
    "plt.legend()"
   ]
  },
  {
   "cell_type": "code",
   "execution_count": 45,
   "id": "d2643495",
   "metadata": {},
   "outputs": [
    {
     "data": {
      "text/plain": [
       "2.520730487169056"
      ]
     },
     "execution_count": 45,
     "metadata": {},
     "output_type": "execute_result"
    }
   ],
   "source": [
    "df['Daily Mean PM2.5 Concentration'].mad()"
   ]
  },
  {
   "cell_type": "code",
   "execution_count": 46,
   "id": "a7ce84e2",
   "metadata": {},
   "outputs": [
    {
     "data": {
      "text/plain": [
       "<bound method NDFrame._add_numeric_operations.<locals>.var of 0         3.0\n",
       "1         7.9\n",
       "2         3.9\n",
       "3         6.1\n",
       "4        12.7\n",
       "         ... \n",
       "11073     8.4\n",
       "11074     9.3\n",
       "11075    12.9\n",
       "11076    15.5\n",
       "11078    13.3\n",
       "Name: Daily Mean PM2.5 Concentration, Length: 10545, dtype: float64>"
      ]
     },
     "execution_count": 46,
     "metadata": {},
     "output_type": "execute_result"
    }
   ],
   "source": [
    "df['Daily Mean PM2.5 Concentration'].var"
   ]
  },
  {
   "cell_type": "code",
   "execution_count": 47,
   "id": "fe603200",
   "metadata": {},
   "outputs": [
    {
     "data": {
      "text/plain": [
       "<matplotlib.legend.Legend at 0x217290f0220>"
      ]
     },
     "execution_count": 47,
     "metadata": {},
     "output_type": "execute_result"
    },
    {
     "data": {
      "image/png": "[encoded data removed]",
      "text/plain": [
       "<Figure size 1080x576 with 1 Axes>"
      ]
     },
     "metadata": {},
     "output_type": "display_data"
    }
   ],
   "source": [
    "sns.histplot(df['Daily Mean PM2.5 Concentration'],color = 'grey')\n",
    "plt.axvline(df['Daily Mean PM2.5 Concentration'].mean(),color='red',label=f'Mean')\n",
    "plt.axvline(statistics.median(df['Daily Mean PM2.5 Concentration']),color= 'blue', label=f'Median: 5.7')\n",
    "plt.axvline(statistics.mode(df['Daily Mean PM2.5 Concentration']),color= 'green', label=f'Mode: 4.7')\n",
    "plt.axvline(df['Daily Mean PM2.5 Concentration'].mean() + df['Daily Mean PM2.5 Concentration'].std(),color='cyan',\n",
    "            label=f'Standard Deviation')\n",
    "plt.axvline(df['Daily Mean PM2.5 Concentration'].mean() - df['Daily Mean PM2.5 Concentration'].std(),color='cyan')\n",
    "plt.axvline(df['Daily Mean PM2.5 Concentration'].mean() + 2*(df['Daily Mean PM2.5 Concentration'].std()),color='magenta',\n",
    "            label=f'2 Standard Deviation')\n",
    "plt.axvline(df['Daily Mean PM2.5 Concentration'].mean() - 2*(df['Daily Mean PM2.5 Concentration'].std()),color='magenta')\n",
    "plt.axvline(df['Daily Mean PM2.5 Concentration'].mean() + 3*(df['Daily Mean PM2.5 Concentration'].std()),color='yellow',\n",
    "            label=f'3 Standard Deviation')\n",
    "plt.axvline(df['Daily Mean PM2.5 Concentration'].mean() - 3*(df['Daily Mean PM2.5 Concentration'].std()),color='yellow')\n",
    "\n",
    "plt.title('PM2.5 Concentration ')\n",
    "plt.legend()"
   ]
  },
  {
   "cell_type": "markdown",
   "id": "c555ee95",
   "metadata": {},
   "source": [
    "## Skewness and Kurtosis"
   ]
  },
  {
   "cell_type": "markdown",
   "id": "80b9486e",
   "metadata": {},
   "source": [
    "### Skewness "
   ]
  },
  {
   "cell_type": "code",
   "execution_count": 48,
   "id": "5a0afcc4",
   "metadata": {},
   "outputs": [
    {
     "data": {
      "text/plain": [
       "Site ID                          -0.266295\n",
       "POC                              -0.550369\n",
       "Daily Mean PM2.5 Concentration    0.681670\n",
       "DAILY_AQI_VALUE                   0.522122\n",
       "DAILY_OBS_COUNT                   0.000000\n",
       "PERCENT_COMPLETE                  0.000000\n",
       "AQS_PARAMETER_CODE               -0.408306\n",
       "CBSA_CODE                        -0.997565\n",
       "STATE_CODE                        0.000000\n",
       "COUNTY_CODE                      -0.266803\n",
       "SITE_LATITUDE                     0.448545\n",
       "SITE_LONGITUDE                   -1.015510\n",
       "dtype: float64"
      ]
     },
     "execution_count": 48,
     "metadata": {},
     "output_type": "execute_result"
    }
   ],
   "source": [
    "df.skew()"
   ]
  },
  {
   "cell_type": "code",
   "execution_count": 49,
   "id": "d0479d5a",
   "metadata": {},
   "outputs": [
    {
     "data": {
      "text/plain": [
       "0.6816696038861196"
      ]
     },
     "execution_count": 49,
     "metadata": {},
     "output_type": "execute_result"
    }
   ],
   "source": [
    "df['Daily Mean PM2.5 Concentration'].skew()"
   ]
  },
  {
   "cell_type": "code",
   "execution_count": 50,
   "id": "ceca49cc",
   "metadata": {},
   "outputs": [
    {
     "data": {
      "image/png": "[encoded data removed]",
      "text/plain": [
       "<Figure size 1080x576 with 1 Axes>"
      ]
     },
     "metadata": {},
     "output_type": "display_data"
    }
   ],
   "source": [
    "df['Daily Mean PM2.5 Concentration'].plot(kind = 'density')\n",
    "sns.set_style(\"darkgrid\")"
   ]
  },
  {
   "cell_type": "code",
   "execution_count": 51,
   "id": "64237c60",
   "metadata": {},
   "outputs": [
    {
     "data": {
      "image/png": "[encoded data removed]",
      "text/plain": [
       "<Figure size 1080x576 with 1 Axes>"
      ]
     },
     "metadata": {},
     "output_type": "display_data"
    }
   ],
   "source": [
    "sns.distplot(df['Daily Mean PM2.5 Concentration'],hist=True,kde=True)\n",
    "sns.set_style(\"darkgrid\")"
   ]
  },
  {
   "cell_type": "markdown",
   "id": "f69799b7",
   "metadata": {},
   "source": [
    "### Kurtosis"
   ]
  },
  {
   "cell_type": "code",
   "execution_count": 52,
   "id": "4dc72685",
   "metadata": {},
   "outputs": [
    {
     "data": {
      "text/plain": [
       "Site ID                          -0.726640\n",
       "POC                              -1.026572\n",
       "Daily Mean PM2.5 Concentration    0.280624\n",
       "DAILY_AQI_VALUE                  -0.245302\n",
       "DAILY_OBS_COUNT                   0.000000\n",
       "PERCENT_COMPLETE                  0.000000\n",
       "AQS_PARAMETER_CODE               -1.833634\n",
       "CBSA_CODE                        -0.251842\n",
       "STATE_CODE                        0.000000\n",
       "COUNTY_CODE                      -0.729558\n",
       "SITE_LATITUDE                    -1.619091\n",
       "SITE_LONGITUDE                   -0.612897\n",
       "dtype: float64"
      ]
     },
     "execution_count": 52,
     "metadata": {},
     "output_type": "execute_result"
    }
   ],
   "source": [
    "df.kurt()"
   ]
  },
  {
   "cell_type": "code",
   "execution_count": 53,
   "id": "dd6a173d",
   "metadata": {},
   "outputs": [
    {
     "data": {
      "text/plain": [
       "0.2806239943354707"
      ]
     },
     "execution_count": 53,
     "metadata": {},
     "output_type": "execute_result"
    }
   ],
   "source": [
    "df['Daily Mean PM2.5 Concentration'].kurt()"
   ]
  },
  {
   "cell_type": "code",
   "execution_count": 54,
   "id": "eace41b7",
   "metadata": {},
   "outputs": [
    {
     "data": {
      "text/plain": [
       "<Figure size 1080x576 with 0 Axes>"
      ]
     },
     "execution_count": 54,
     "metadata": {},
     "output_type": "execute_result"
    },
    {
     "data": {
      "image/png": "[encoded data removed]",
      "text/plain": [
       "<Figure size 1080x576 with 1 Axes>"
      ]
     },
     "metadata": {},
     "output_type": "display_data"
    },
    {
     "data": {
      "text/plain": [
       "<Figure size 1080x576 with 0 Axes>"
      ]
     },
     "metadata": {},
     "output_type": "display_data"
    }
   ],
   "source": [
    "stats.probplot(df['Daily Mean PM2.5 Concentration'],plot=plt)\n",
    "sns.set_style(\"darkgrid\")\n",
    "plt.figure()"
   ]
  },
  {
   "cell_type": "markdown",
   "id": "2dc4f463",
   "metadata": {},
   "source": [
    "# Inferential Statistics"
   ]
  },
  {
   "cell_type": "markdown",
   "id": "9e486385",
   "metadata": {},
   "source": [
    "###  2 Sample T-Test "
   ]
  },
  {
   "cell_type": "code",
   "execution_count": 116,
   "id": "493840c1",
   "metadata": {},
   "outputs": [
    {
     "data": {
      "text/plain": [
       "5324     10.5\n",
       "1691     10.5\n",
       "2039      3.9\n",
       "10892     8.0\n",
       "6505      7.1\n",
       "         ... \n",
       "7057     10.5\n",
       "7581      0.6\n",
       "9660      0.0\n",
       "8256     11.3\n",
       "10944     2.3\n",
       "Name: Daily Mean PM2.5 Concentration, Length: 1956, dtype: float64"
      ]
     },
     "execution_count": 116,
     "metadata": {},
     "output_type": "execute_result"
    }
   ],
   "source": [
    "#samples\n",
    "sample1 = df['Daily Mean PM2.5 Concentration'].sample(1956, random_state = 0)\n",
    "sample1"
   ]
  },
  {
   "cell_type": "code",
   "execution_count": 117,
   "id": "24c855d6",
   "metadata": {},
   "outputs": [
    {
     "data": {
      "text/plain": [
       "5658     5.1\n",
       "6343     3.5\n",
       "10839    4.2\n",
       "1186     9.4\n",
       "2289     7.7\n",
       "        ... \n",
       "2810     8.2\n",
       "1157     6.6\n",
       "2748     2.0\n",
       "1787     5.7\n",
       "7204     5.7\n",
       "Name: Daily Mean PM2.5 Concentration, Length: 1956, dtype: float64"
      ]
     },
     "execution_count": 117,
     "metadata": {},
     "output_type": "execute_result"
    }
   ],
   "source": [
    "sample2 = df.sample(1956, random_state = 1)\n",
    "sample2"
   ]
  },
  {
   "cell_type": "code",
   "execution_count": 197,
   "id": "71ed66d2",
   "metadata": {},
   "outputs": [
    {
     "data": {
      "text/html": [
       "<div>\n",
       "<style scoped>\n",
       "    .dataframe tbody tr th:only-of-type {\n",
       "        vertical-align: middle;\n",
       "    }\n",
       "\n",
       "    .dataframe tbody tr th {\n",
       "        vertical-align: top;\n",
       "    }\n",
       "\n",
       "    .dataframe thead th {\n",
       "        text-align: right;\n",
       "    }\n",
       "</style>\n",
       "<table border=\"1\" class=\"dataframe\">\n",
       "  <thead>\n",
       "    <tr style=\"text-align: right;\">\n",
       "      <th></th>\n",
       "      <th>Daily Mean PM2.5 Concentration</th>\n",
       "    </tr>\n",
       "  </thead>\n",
       "  <tbody>\n",
       "    <tr>\n",
       "      <th>5324</th>\n",
       "      <td>10.5</td>\n",
       "    </tr>\n",
       "    <tr>\n",
       "      <th>1691</th>\n",
       "      <td>10.5</td>\n",
       "    </tr>\n",
       "    <tr>\n",
       "      <th>2039</th>\n",
       "      <td>3.9</td>\n",
       "    </tr>\n",
       "    <tr>\n",
       "      <th>10892</th>\n",
       "      <td>8.0</td>\n",
       "    </tr>\n",
       "    <tr>\n",
       "      <th>6505</th>\n",
       "      <td>7.1</td>\n",
       "    </tr>\n",
       "    <tr>\n",
       "      <th>...</th>\n",
       "      <td>...</td>\n",
       "    </tr>\n",
       "    <tr>\n",
       "      <th>7057</th>\n",
       "      <td>10.5</td>\n",
       "    </tr>\n",
       "    <tr>\n",
       "      <th>7581</th>\n",
       "      <td>0.6</td>\n",
       "    </tr>\n",
       "    <tr>\n",
       "      <th>9660</th>\n",
       "      <td>0.0</td>\n",
       "    </tr>\n",
       "    <tr>\n",
       "      <th>8256</th>\n",
       "      <td>11.3</td>\n",
       "    </tr>\n",
       "    <tr>\n",
       "      <th>10944</th>\n",
       "      <td>2.3</td>\n",
       "    </tr>\n",
       "  </tbody>\n",
       "</table>\n",
       "<p>1956 rows × 1 columns</p>\n",
       "</div>"
      ],
      "text/plain": [
       "       Daily Mean PM2.5 Concentration\n",
       "5324                             10.5\n",
       "1691                             10.5\n",
       "2039                              3.9\n",
       "10892                             8.0\n",
       "6505                              7.1\n",
       "...                               ...\n",
       "7057                             10.5\n",
       "7581                              0.6\n",
       "9660                              0.0\n",
       "8256                             11.3\n",
       "10944                             2.3\n",
       "\n",
       "[1956 rows x 1 columns]"
      ]
     },
     "execution_count": 197,
     "metadata": {},
     "output_type": "execute_result"
    }
   ],
   "source": [
    "aa = pd.DataFrame(sample1)\n",
    "aa"
   ]
  },
  {
   "cell_type": "code",
   "execution_count": 199,
   "id": "74d26712",
   "metadata": {},
   "outputs": [
    {
     "data": {
      "text/html": [
       "<div>\n",
       "<style scoped>\n",
       "    .dataframe tbody tr th:only-of-type {\n",
       "        vertical-align: middle;\n",
       "    }\n",
       "\n",
       "    .dataframe tbody tr th {\n",
       "        vertical-align: top;\n",
       "    }\n",
       "\n",
       "    .dataframe thead th {\n",
       "        text-align: right;\n",
       "    }\n",
       "</style>\n",
       "<table border=\"1\" class=\"dataframe\">\n",
       "  <thead>\n",
       "    <tr style=\"text-align: right;\">\n",
       "      <th></th>\n",
       "      <th>Daily Mean PM2.5 Concentration</th>\n",
       "    </tr>\n",
       "  </thead>\n",
       "  <tbody>\n",
       "    <tr>\n",
       "      <th>5658</th>\n",
       "      <td>5.1</td>\n",
       "    </tr>\n",
       "    <tr>\n",
       "      <th>6343</th>\n",
       "      <td>3.5</td>\n",
       "    </tr>\n",
       "    <tr>\n",
       "      <th>10839</th>\n",
       "      <td>4.2</td>\n",
       "    </tr>\n",
       "    <tr>\n",
       "      <th>1186</th>\n",
       "      <td>9.4</td>\n",
       "    </tr>\n",
       "    <tr>\n",
       "      <th>2289</th>\n",
       "      <td>7.7</td>\n",
       "    </tr>\n",
       "    <tr>\n",
       "      <th>...</th>\n",
       "      <td>...</td>\n",
       "    </tr>\n",
       "    <tr>\n",
       "      <th>2810</th>\n",
       "      <td>8.2</td>\n",
       "    </tr>\n",
       "    <tr>\n",
       "      <th>1157</th>\n",
       "      <td>6.6</td>\n",
       "    </tr>\n",
       "    <tr>\n",
       "      <th>2748</th>\n",
       "      <td>2.0</td>\n",
       "    </tr>\n",
       "    <tr>\n",
       "      <th>1787</th>\n",
       "      <td>5.7</td>\n",
       "    </tr>\n",
       "    <tr>\n",
       "      <th>7204</th>\n",
       "      <td>5.7</td>\n",
       "    </tr>\n",
       "  </tbody>\n",
       "</table>\n",
       "<p>1956 rows × 1 columns</p>\n",
       "</div>"
      ],
      "text/plain": [
       "       Daily Mean PM2.5 Concentration\n",
       "5658                              5.1\n",
       "6343                              3.5\n",
       "10839                             4.2\n",
       "1186                              9.4\n",
       "2289                              7.7\n",
       "...                               ...\n",
       "2810                              8.2\n",
       "1157                              6.6\n",
       "2748                              2.0\n",
       "1787                              5.7\n",
       "7204                              5.7\n",
       "\n",
       "[1956 rows x 1 columns]"
      ]
     },
     "execution_count": 199,
     "metadata": {},
     "output_type": "execute_result"
    }
   ],
   "source": [
    "bb = pd.DataFrame(sample2)\n",
    "bb"
   ]
  },
  {
   "cell_type": "code",
   "execution_count": 200,
   "id": "44531b4c",
   "metadata": {},
   "outputs": [
    {
     "data": {
      "image/png": "[encoded data removed]",
      "text/plain": [
       "<Figure size 1080x576 with 1 Axes>"
      ]
     },
     "metadata": {},
     "output_type": "display_data"
    }
   ],
   "source": [
    "ax = sns.swarmplot( data=aa, color='#99c2a2')\n",
    "bx = sns.swarmplot(data=bb, color='#7d0013')\n",
    "plt.legend(labels = ['Sample1', 'Sample2'])\n",
    "plt.show()"
   ]
  },
  {
   "cell_type": "code",
   "execution_count": 210,
   "id": "cd2c8ac9",
   "metadata": {},
   "outputs": [
    {
     "data": {
      "text/plain": [
       "Ttest_indResult(statistic=1.001452306232208, pvalue=0.3166701579832451)"
      ]
     },
     "execution_count": 210,
     "metadata": {},
     "output_type": "execute_result"
    }
   ],
   "source": [
    "stats.ttest_ind(a=sample1 , b=sample2)\n"
   ]
  },
  {
   "cell_type": "code",
   "execution_count": null,
   "id": "bea941d0",
   "metadata": {},
   "outputs": [],
   "source": []
  },
  {
   "cell_type": "code",
   "execution_count": null,
   "id": "1bd5a4c6",
   "metadata": {},
   "outputs": [],
   "source": []
  }
 ],
 "metadata": {
  "kernelspec": {
   "display_name": "Python 3 (ipykernel)",
   "language": "python",
   "name": "python3"
  },
  "language_info": {
   "codemirror_mode": {
    "name": "ipython",
    "version": 3
   },
   "file_extension": ".py",
   "mimetype": "text/x-python",
   "name": "python",
   "nbconvert_exporter": "python",
   "pygments_lexer": "ipython3",
   "version": "3.9.7"
  }
 },
 "nbformat": 4,
 "nbformat_minor": 5
}
